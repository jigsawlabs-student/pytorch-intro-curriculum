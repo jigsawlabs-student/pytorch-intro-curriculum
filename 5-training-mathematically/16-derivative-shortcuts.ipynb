{
 "cells": [
  {
   "cell_type": "markdown",
   "metadata": {},
   "source": [
    "# Rules for the Derivative"
   ]
  },
  {
   "cell_type": "markdown",
   "metadata": {},
   "source": [
    "### Introduction"
   ]
  },
  {
   "cell_type": "markdown",
   "metadata": {},
   "source": [
    "In the last lesson we were introduced to the derivative.  The derivative is the instantaneous rate of change of the function.  Or another way to think about it is that it is the slope of a function at a given point.  We defined the derivative by the mathematical formula:\n",
    "\n",
    "$\\frac{\\delta y}{\\delta x} = lim_{\\delta x\\to0}\\frac{y_1 - y_0}{x_1 - x_0}$."
   ]
  },
  {
   "cell_type": "markdown",
   "metadata": {},
   "source": [
    "> And can read the above as the change in $y$ divided per a change in $x$, as the change in $x$ approaches zero."
   ]
  },
  {
   "cell_type": "markdown",
   "metadata": {},
   "source": [
    "We saw an example of calculating the derivative for a function, $f(x) = 3x^2$, with the following code:"
   ]
  },
  {
   "cell_type": "markdown",
   "metadata": {},
   "source": [
    "> First, we defined our function $f(x)$."
   ]
  },
  {
   "cell_type": "code",
   "execution_count": 1,
   "metadata": {},
   "outputs": [],
   "source": [
    "def f(x):\n",
    "    return 3*(x**2)"
   ]
  },
  {
   "cell_type": "markdown",
   "metadata": {},
   "source": [
    "> And then we defined our `rate_of_change` formula. "
   ]
  },
  {
   "cell_type": "code",
   "execution_count": 3,
   "metadata": {},
   "outputs": [],
   "source": [
    "def rate_of_change(x_0, x_1):\n",
    "    return (f(x_1) - f(x_0))/(x_1 - x_0)"
   ]
  },
  {
   "cell_type": "markdown",
   "metadata": {},
   "source": [
    "> And then we found the rate of change as delta x approached zero."
   ]
  },
  {
   "cell_type": "code",
   "execution_count": 9,
   "metadata": {},
   "outputs": [
    {
     "data": {
      "text/plain": [
       "-18.02999999999993"
      ]
     },
     "execution_count": 9,
     "metadata": {},
     "output_type": "execute_result"
    }
   ],
   "source": [
    "rate_of_change(-3, -3.01)"
   ]
  },
  {
   "cell_type": "markdown",
   "metadata": {},
   "source": [
    "In this lesson we'll see that there are certain shortcuts we can use for calculating the derivative at a given point.  These rules are essentially to how a program like Pytorch calculates the the slope of the cost function so quickly -- it just applies these rules.  And lucky for us, there's only three rules we need to know."
   ]
  },
  {
   "cell_type": "markdown",
   "metadata": {},
   "source": [
    "### 1. The power rule "
   ]
  },
  {
   "cell_type": "markdown",
   "metadata": {},
   "source": [
    "The main rule about derivatives we need to know is the power rule.  This is the power rule:"
   ]
  },
  {
   "cell_type": "markdown",
   "metadata": {},
   "source": [
    "If $f(x) = x^z$, then the derivative, $f'(x)$ is"
   ]
  },
  {
   "cell_type": "markdown",
   "metadata": {},
   "source": [
    "$f'(x) = z*x ^ {z-1}$"
   ]
  },
  {
   "cell_type": "markdown",
   "metadata": {},
   "source": [
    "It's easier to see this with a couple examples.  Say that we have the following function:"
   ]
  },
  {
   "cell_type": "markdown",
   "metadata": {},
   "source": [
    "$g(x) = x^2$ then $g'(x) = 2x^ 1 = 2x$ "
   ]
  },
  {
   "cell_type": "markdown",
   "metadata": {},
   "source": [
    "Or if $j(x) = 3x$ then $j'(x) = 3x^{1 - 1} = 3x^0 = 3$"
   ]
  },
  {
   "cell_type": "markdown",
   "metadata": {},
   "source": [
    "And if $h(x) = x^4$ then $h'(x) = 4x^3$ "
   ]
  },
  {
   "cell_type": "markdown",
   "metadata": {},
   "source": [
    "Now it's your turn, if $z(x) = x^3$, use the power rule to find $z'(x)$.  \n",
    "> Answer is at the end of this lesson."
   ]
  },
  {
   "cell_type": "markdown",
   "metadata": {},
   "source": [
    "Before moving on, let's take a moment to appreciate how nice this rule is.  It means that if we want to see the instantaneous rate of a function of the form $f(x) = x^z$, we just use the power rule.  \n",
    "\n",
    "So when we found $h(x) = x^4 $ and $h'(x) = 4x^3 $.  This means that to see the instantaneous rate of change of $h(x)$ when $x = 2$, we can calculate that:\n",
    "\n",
    "* $h'(x) = 4x^3 $ and"
   ]
  },
  {
   "cell_type": "markdown",
   "metadata": {},
   "source": [
    "* $h'(2) = 4*2^3 = 4*8 = 32$"
   ]
  },
  {
   "cell_type": "markdown",
   "metadata": {},
   "source": [
    "Which is also what we get with our previous formula for calculating the derivative."
   ]
  },
  {
   "cell_type": "code",
   "execution_count": 13,
   "metadata": {},
   "outputs": [
    {
     "data": {
      "text/plain": [
       "32.024008000998776"
      ]
     },
     "execution_count": 13,
     "metadata": {},
     "output_type": "execute_result"
    }
   ],
   "source": [
    "def rate_of_change_h(x_0, x_1):\n",
    "    return (h(x_1) - h(x_0))/(x_1 - x_0)\n",
    "\n",
    "def h(x): \n",
    "    return x**4\n",
    "\n",
    "rate_of_change_h(2, 2.001)"
   ]
  },
  {
   "cell_type": "markdown",
   "metadata": {},
   "source": [
    "And we found this just by applying the power rule."
   ]
  },
  {
   "cell_type": "markdown",
   "metadata": {},
   "source": [
    "Before moving on, let's see one more common example.  If $f(x) = 3x$, then $f'(x) = 3$.  Do you see why? It's because applying our $f(x) = 3x=  3x^1$ and therefore:\n",
    "\n",
    "* $f'(x) = 3x^{1 - 1} = 3*x^0 = 3*1 = 3$"
   ]
  },
  {
   "cell_type": "markdown",
   "metadata": {},
   "source": [
    "So what's $f'(x)$ if $f(x) = 5x$?  \n",
    "\n",
    "> Well the answer, by the same logic, $f'(x) = 5x^{1 - 1} = 5x^0 = 5*1 = 5$."
   ]
  },
  {
   "cell_type": "markdown",
   "metadata": {},
   "source": [
    "### 2. Constant Multiple Rule"
   ]
  },
  {
   "cell_type": "markdown",
   "metadata": {},
   "source": [
    "Ok, now let's find derivative of a few more functions: "
   ]
  },
  {
   "cell_type": "markdown",
   "metadata": {},
   "source": [
    "$h(x) = 3x^2$\n",
    "\n",
    "$h'(x) = 3*2x = 6x$"
   ]
  },
  {
   "cell_type": "markdown",
   "metadata": {},
   "source": [
    "Or here's another example $g(x) = 4x^3$\n",
    "\n",
    "$g'(x) = 4*3x^2 = 12x^2$"
   ]
  },
  {
   "cell_type": "markdown",
   "metadata": {},
   "source": [
    "Both of these were solved with the constant multiple rule."
   ]
  },
  {
   "cell_type": "markdown",
   "metadata": {},
   "source": [
    "> The constant multiple rule states that the derivative of a constant times a function, is just the constant times the derivative.\n",
    "\n",
    "In other words, if we have a function of the form $f(x) = c*x^z$, then the derivative of our function is:"
   ]
  },
  {
   "cell_type": "markdown",
   "metadata": {},
   "source": [
    "$f'(x) = c*z*x^{z - 1}$"
   ]
  },
  {
   "cell_type": "markdown",
   "metadata": {},
   "source": [
    "Let's see one more example."
   ]
  },
  {
   "cell_type": "markdown",
   "metadata": {},
   "source": [
    "When $z(x) = 5x^4$\n",
    "\n",
    "$g'(x) = 5*4x^3 = 20x^3$"
   ]
  },
  {
   "cell_type": "markdown",
   "metadata": {},
   "source": [
    "> Now it's your turn.  Find the derivative of the function $f(x)$ as defined below."
   ]
  },
  {
   "cell_type": "markdown",
   "metadata": {},
   "source": [
    "$f(x) = 5x^6$"
   ]
  },
  {
   "cell_type": "markdown",
   "metadata": {},
   "source": [
    "$f'(x) = ?$"
   ]
  },
  {
   "cell_type": "markdown",
   "metadata": {},
   "source": [
    "> The answer is at the end of the lesson."
   ]
  },
  {
   "cell_type": "markdown",
   "metadata": {},
   "source": [
    "### 3. Changing Variables"
   ]
  },
  {
   "cell_type": "markdown",
   "metadata": {},
   "source": [
    "Now remember that we have two different notations for the derivative.  For example, instead of writing the derivative of $f(x) = 5x^6$ as $f'(x) = 30x^5$ we can also write it as $\\frac{\\delta f}{\\delta x} = 30x^5$.  This latter way is a little more explicit.  We can read this as the change in our function $f$ per a nudge in $x$.\n",
    "\n",
    "Now what if we have a function that looks like the following: $z(w, x) = w^2*x$.  Let's calculate $\\frac{\\delta z}{\\delta w}$.  This is the answer:\n",
    "\n",
    "*  $\\frac{\\delta z}{\\delta w} = (2w)*x$"
   ]
  },
  {
   "cell_type": "markdown",
   "metadata": {},
   "source": [
    "So the point from the above is that, if we are not taking the derivative with respect to a variable, we just treat this variable as a constant.  So above, we are taking the derivative with respect to $w$ -- as expressed by $\\frac{\\delta z}{\\delta w} $ -- we apply the derivative rules to $w$ variable, and treat everything else like a constant. "
   ]
  },
  {
   "cell_type": "markdown",
   "metadata": {},
   "source": [
    "Let's see another example.  Say we have the following function:"
   ]
  },
  {
   "cell_type": "markdown",
   "metadata": {},
   "source": [
    "* $j(a, b) = 2*b^3*a$"
   ]
  },
  {
   "cell_type": "markdown",
   "metadata": {},
   "source": [
    "And we calculate $\\frac{\\delta j}{\\delta b}$.  Then this time we treat $a$ like a constant and get:"
   ]
  },
  {
   "cell_type": "markdown",
   "metadata": {},
   "source": [
    "$\\frac{\\delta j}{\\delta b} = 2*3b^2*a  = 6b^2a$"
   ]
  },
  {
   "cell_type": "markdown",
   "metadata": {},
   "source": [
    "So notice above that it's important to understand the notation to the left when making the caclulation.  If we see $\\frac{\\delta j}{\\delta b}$, this means to find the change in the output of a function $j$ if we just nudge the variable $b$.  And we read this as the derivative of $j$ *with respect to b*.  If we see $\\frac{\\delta z}{\\delta w}$, this means to find the derivative of a function $\\z$ with respect to $w$.  Or in other words, it means to find the change in the output of $z$ as we nudge a parameter $w$."
   ]
  },
  {
   "cell_type": "markdown",
   "metadata": {},
   "source": [
    "> When we have a function that has multiple variables (like $a$ and $b$) above, and we want to take the derivative with respect to one of the variables this is called taking the **partial derivative**.  If you'd like to learn more about the partial derivative, we have an entire lesson on it in the math supplements."
   ]
  },
  {
   "cell_type": "markdown",
   "metadata": {},
   "source": [
    "### 4. Multiple Terms"
   ]
  },
  {
   "cell_type": "markdown",
   "metadata": {},
   "source": [
    "Now, let's discuss how we find the derivative of a function that has multiple terms.  For example, the function below has three terms:"
   ]
  },
  {
   "cell_type": "markdown",
   "metadata": {},
   "source": [
    "$g(x) = 3x^3  + 2x^2 + 100$"
   ]
  },
  {
   "cell_type": "markdown",
   "metadata": {},
   "source": [
    "To find the derivative of the function $g(x)$ above, we apply our derivative rule to each term in the function.  So we get the following:"
   ]
  },
  {
   "cell_type": "markdown",
   "metadata": {},
   "source": [
    "$g'(x) = 9x^2  + 4x + 0 $"
   ]
  },
  {
   "cell_type": "markdown",
   "metadata": {},
   "source": [
    "> This is called the *sum rule* for the derivative.  "
   ]
  },
  {
   "cell_type": "markdown",
   "metadata": {},
   "source": [
    "Notice that the derivative of the last term, 100, equals 0 because the rate of change of a constant term is always 0."
   ]
  },
  {
   "cell_type": "markdown",
   "metadata": {},
   "source": [
    "> Your turn.  Now find the derivative of the function $h(x)$ below:"
   ]
  },
  {
   "cell_type": "markdown",
   "metadata": {},
   "source": [
    "$h(x) = 2x^4  + x^2 + 200x$"
   ]
  },
  {
   "cell_type": "markdown",
   "metadata": {},
   "source": [
    "> $h'(x) = ?$"
   ]
  },
  {
   "cell_type": "markdown",
   "metadata": {},
   "source": [
    "### Summary"
   ]
  },
  {
   "cell_type": "markdown",
   "metadata": {},
   "source": [
    "Ok, that's all it for our math review!  There is really just one main rule, and that's our power rule:\n",
    "\n",
    "* If $f(x) = x^z$, then the derivative, $f'(x)$ is $f'(x) = c*z*x^{z - 1}$."
   ]
  },
  {
   "cell_type": "markdown",
   "metadata": {},
   "source": [
    "Remember why this is so powerful.  If we have a function like:"
   ]
  },
  {
   "cell_type": "markdown",
   "metadata": {},
   "source": [
    "$g(x) = x^2$ then $g'(x) = 2x^ {2- 1} = 2x$ "
   ]
  },
  {
   "cell_type": "markdown",
   "metadata": {},
   "source": [
    "And once we calculate the derivative if we want to find the instantaneous rate of change at any givene value, we just need to plug in our different values for $x$.  \n",
    "\n",
    "So $g'(3) = 2*3 = 6$ and $g'(4) = 2*4 = 8$.  That's it."
   ]
  },
  {
   "cell_type": "markdown",
   "metadata": {},
   "source": [
    "<center>\n",
    "<a href=\"https://www.jigsawlabs.io/free\" style=\"position: center\"><img src=\"jigsaw-icon.png\" width=\"10%\" style=\"text-align: center\"></a>\n",
    "</center>"
   ]
  },
  {
   "cell_type": "markdown",
   "metadata": {},
   "source": [
    "### Answers"
   ]
  },
  {
   "cell_type": "markdown",
   "metadata": {},
   "source": [
    "$z(x) = x^3$, $z'(x) = 3x^2$"
   ]
  },
  {
   "cell_type": "markdown",
   "metadata": {},
   "source": [
    "\n",
    "$f(x) = 5x^6$, $f'(x) = 5*6x^5 = 30x^5$"
   ]
  },
  {
   "cell_type": "markdown",
   "metadata": {},
   "source": [
    "$h(x) = 2x^4  + x^2 + 200x$, $h'(x) = 8x^3 + 2x + 200$"
   ]
  }
 ],
 "metadata": {
  "kernelspec": {
   "display_name": "Python 3",
   "language": "python",
   "name": "python3"
  },
  "language_info": {
   "codemirror_mode": {
    "name": "ipython",
    "version": 3
   },
   "file_extension": ".py",
   "mimetype": "text/x-python",
   "name": "python",
   "nbconvert_exporter": "python",
   "pygments_lexer": "ipython3",
   "version": "3.8.6"
  }
 },
 "nbformat": 4,
 "nbformat_minor": 4
}
