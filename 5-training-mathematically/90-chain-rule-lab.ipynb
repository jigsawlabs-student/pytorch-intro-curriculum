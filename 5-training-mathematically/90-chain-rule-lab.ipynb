{
 "cells": [
  {
   "cell_type": "markdown",
   "metadata": {},
   "source": [
    "# Chain Rule Lab"
   ]
  },
  {
   "cell_type": "markdown",
   "metadata": {},
   "source": [
    "### Introduction"
   ]
  },
  {
   "cell_type": "markdown",
   "metadata": {},
   "source": [
    "In the last lesson, we saw that we can find the derivative of a composite function $f(x) = g(h(x))$ is the derivative of the outer function multiplied by the derivative of the inner function. That is, \n",
    "\n",
    "* If $f(x) = g(h(x))$ \n",
    "* Then $f'(x) = g'(h(x))*h'(x)$"
   ]
  },
  {
   "cell_type": "markdown",
   "metadata": {},
   "source": [
    "To use the chain rule, we first spent some time identifying $h(x)$ and $g(h(x))$.  Let's follow the same procedure here in this lab."
   ]
  },
  {
   "cell_type": "markdown",
   "metadata": {},
   "source": [
    "### A new function"
   ]
  },
  {
   "cell_type": "markdown",
   "metadata": {},
   "source": [
    "Let's begin by working with the following function:\n",
    "\n",
    "$$f(x) = (2x + 50)^3$$"
   ]
  },
  {
   "cell_type": "markdown",
   "metadata": {},
   "source": [
    "We can represent this function in code as the following:"
   ]
  },
  {
   "cell_type": "code",
   "execution_count": null,
   "metadata": {},
   "outputs": [],
   "source": [
    "# 𝑓(𝑥)=(2𝑥+50)^3\n",
    "def f(x):\n",
    "    return (2*x + 5)**3"
   ]
  },
  {
   "cell_type": "code",
   "execution_count": null,
   "metadata": {},
   "outputs": [],
   "source": [
    "f(2) # 729"
   ]
  },
  {
   "cell_type": "markdown",
   "metadata": {},
   "source": [
    "Next let's re-represent this function $f(x) = (2x + 50)^3$  as: \n",
    "\n",
    "* $f(x) = g(h(x))$.\n",
    "\n",
    "And we'll leave it to you to define $h(x)$ and $g(y)$."
   ]
  },
  {
   "cell_type": "markdown",
   "metadata": {},
   "source": [
    "1. Define the inner function $h(x)$ by setting the `output` equal to the contents of $h(x)$."
   ]
  },
  {
   "cell_type": "code",
   "execution_count": null,
   "metadata": {},
   "outputs": [],
   "source": [
    "## define the inner function\n",
    "def h(x):\n",
    "    output = None # replace None here\n",
    "    print(f'h({x}) = ', output)\n",
    "    return output"
   ]
  },
  {
   "cell_type": "code",
   "execution_count": null,
   "metadata": {},
   "outputs": [],
   "source": [
    "h(1.5)\n",
    "# h(1.5) =  53.0\n",
    "# 53.0"
   ]
  },
  {
   "cell_type": "markdown",
   "metadata": {},
   "source": [
    "2. Define the outer function $g(y)$ by setting the `output` equal to the contents of $g(y)$."
   ]
  },
  {
   "cell_type": "code",
   "execution_count": null,
   "metadata": {},
   "outputs": [],
   "source": [
    "def g(y):\n",
    "    output = None # replace None here\n",
    "    print(f'g({y}) = ', output)\n",
    "    return output"
   ]
  },
  {
   "cell_type": "code",
   "execution_count": null,
   "metadata": {},
   "outputs": [],
   "source": [
    "g(53)\n",
    "# g(53) =  148877\n",
    "# 148877"
   ]
  },
  {
   "cell_type": "markdown",
   "metadata": {},
   "source": [
    "Now redefine $f(x) = (2x + 50)^3$, using the functions $f(x)$ and $g(y)$."
   ]
  },
  {
   "cell_type": "code",
   "execution_count": 1,
   "metadata": {},
   "outputs": [],
   "source": [
    "def f(x):\n",
    "    pass"
   ]
  },
  {
   "cell_type": "code",
   "execution_count": null,
   "metadata": {},
   "outputs": [],
   "source": [
    "f(1.5)\n",
    "\n",
    "# h(1.5) =  53.0\n",
    "# g(53.0) =  148877.0\n",
    "# 148877.0"
   ]
  },
  {
   "cell_type": "code",
   "execution_count": null,
   "metadata": {},
   "outputs": [],
   "source": [
    "f(2)\n",
    "\n",
    "# h(2) =  54\n",
    "# g(54) =  157464\n",
    "# 157464"
   ]
  },
  {
   "cell_type": "markdown",
   "metadata": {},
   "source": [
    "### Finding the derivative"
   ]
  },
  {
   "cell_type": "markdown",
   "metadata": {},
   "source": [
    "Ok, so above we started with a function:\n",
    "\n",
    "$f(x) = (2x + 50)^3$\n",
    "\n",
    "and redefined it as:\n",
    "\n",
    "$f(x) = g(h(x))$ where:\n",
    "* $g(h(x)) = h(x)^3 $ and\n",
    "* $h(x) = 2x + 50 $ \n"
   ]
  },
  {
   "cell_type": "markdown",
   "metadata": {},
   "source": [
    "The next step is to apply the chain rule.  We know that with the function \n",
    "* $f(x) = g(h(x))$\n",
    "* $f'(x) = g'(h(x))*h'(x)$"
   ]
  },
  {
   "cell_type": "markdown",
   "metadata": {},
   "source": [
    "So now find the derivatives of:\n",
    "\n",
    "* $g(h(x)) = h(x)^3 $  and\n",
    "* $h(x) = 2x + 50 $ \n"
   ]
  },
  {
   "cell_type": "markdown",
   "metadata": {},
   "source": [
    "Find $h'(x) = \\frac{\\delta h}{\\delta x} = $"
   ]
  },
  {
   "cell_type": "markdown",
   "metadata": {},
   "source": [
    "> Assign the derivative, $h'(x)$ to `output` in the below function."
   ]
  },
  {
   "cell_type": "code",
   "execution_count": null,
   "metadata": {},
   "outputs": [],
   "source": [
    "def dh_dx(x):\n",
    "    output = None\n",
    "    print(f'dh/dx({x}) = ', output)\n",
    "    return output"
   ]
  },
  {
   "cell_type": "code",
   "execution_count": null,
   "metadata": {},
   "outputs": [],
   "source": [
    "dh_dx(4)\n",
    "# dh/dx(100) =  2\n",
    "# 2"
   ]
  },
  {
   "cell_type": "markdown",
   "metadata": {},
   "source": [
    "Find $g'(h(x)) = \\frac{\\delta g}{\\delta h} $  and assign it to the variable output in the below function."
   ]
  },
  {
   "cell_type": "code",
   "execution_count": null,
   "metadata": {},
   "outputs": [],
   "source": [
    "def dg_dhx(x):\n",
    "    output = None\n",
    "    print(f'dg/dhx({x}) = ', output)\n",
    "    return output"
   ]
  },
  {
   "cell_type": "code",
   "execution_count": null,
   "metadata": {},
   "outputs": [],
   "source": [
    "dg_dhx(2)\n",
    "# h(2) =  54\n",
    "# dg/dhx(2) =  8748"
   ]
  },
  {
   "cell_type": "markdown",
   "metadata": {},
   "source": [
    "And then now that we have calculated each function separately, we can find $f'(x)$ by applying the formula: \n",
    "\n",
    "$$f'(x) = g'(h(x))*h'(x)$$."
   ]
  },
  {
   "cell_type": "markdown",
   "metadata": {},
   "source": [
    "> Use the functions `dg_dhx(x)` and `dh_dx(x)` (defined above) to have the function `df_dx` return the derivative $f'(x)$."
   ]
  },
  {
   "cell_type": "code",
   "execution_count": null,
   "metadata": {},
   "outputs": [],
   "source": [
    "def df_dx(x):\n",
    "    pass"
   ]
  },
  {
   "cell_type": "code",
   "execution_count": null,
   "metadata": {},
   "outputs": [],
   "source": [
    "df_dx(2)\n",
    "\n",
    "# h(2) =  54\n",
    "# dg/dhx(2) =  8748\n",
    "# dh/dx(2) =  2\n",
    "# 17496"
   ]
  },
  {
   "cell_type": "markdown",
   "metadata": {},
   "source": [
    "And we can check our answer by going to our original rule for the derivative."
   ]
  },
  {
   "cell_type": "markdown",
   "metadata": {},
   "source": [
    "$\\frac{\\delta y}{\\delta x} = lim_{\\delta x\\to0}\\frac{y_1 - y_0}{x_1 - x_0}$."
   ]
  },
  {
   "cell_type": "markdown",
   "metadata": {},
   "source": [
    "> Below we'll let $\\delta x = .001$."
   ]
  },
  {
   "cell_type": "code",
   "execution_count": null,
   "metadata": {},
   "outputs": [],
   "source": [
    "(f(2.001) - f(2))/.001\n",
    "\n",
    "# h(2.001) =  54.002\n",
    "# g(54.002) =  157481.49664800803\n",
    "# h(2) =  54\n",
    "# g(54) =  157464\n",
    "# 17496.648008032935"
   ]
  },
  {
   "cell_type": "markdown",
   "metadata": {},
   "source": [
    "So we see that the chain rule gave us the same result as our original formula for the derivative.\n",
    "\n",
    "> But the chain rule is more precise as we do not have to check smaller values and smaller values for $\\delta x$."
   ]
  },
  {
   "cell_type": "markdown",
   "metadata": {},
   "source": [
    "### Summary"
   ]
  },
  {
   "cell_type": "markdown",
   "metadata": {},
   "source": [
    "In this lesson, we applied the chain rule to find the derivative of the function $f(x) = (2x + 50)^3$.  We did this by redefining the function as $f(x) = g(h(x))$ where:\n",
    "\n",
    "* $h(x) = 2x+50$ and \n",
    "* $g(h(x)) = h(x)^3$\n",
    "\n",
    "Then we found the derivatives of each of the functions:\n",
    "\n",
    "* $h'(x) = 2$\n",
    "* $g'(h(x)) = 3*h(x)^2 = 3*(2x + 50)^2$\n",
    "\n",
    "Then applying the chain rule we got the following:\n",
    "\n",
    "$f'(x) = g'(h(x)) * h'(x) = 2* 3*(2x + 50)^2$"
   ]
  },
  {
   "cell_type": "markdown",
   "metadata": {},
   "source": [
    "### Solutions"
   ]
  },
  {
   "cell_type": "code",
   "execution_count": null,
   "metadata": {},
   "outputs": [],
   "source": [
    "def h(x):\n",
    "    output = (2*x + 50) # replace None here\n",
    "    print(f'h({x}) = ', output)\n",
    "    return output"
   ]
  },
  {
   "cell_type": "code",
   "execution_count": null,
   "metadata": {},
   "outputs": [],
   "source": [
    "def g(y):\n",
    "    output = y**3 # replace None here\n",
    "    print(f'g({y}) = ', output)\n",
    "    return output"
   ]
  },
  {
   "cell_type": "code",
   "execution_count": null,
   "metadata": {},
   "outputs": [],
   "source": [
    "def dh_dx(x):\n",
    "    output = 2\n",
    "    print(f'dh/dx({x}) = ', output)\n",
    "    return output"
   ]
  },
  {
   "cell_type": "code",
   "execution_count": null,
   "metadata": {},
   "outputs": [],
   "source": [
    "def dg_dhx(x):\n",
    "    output = 3*h(x)**2\n",
    "    print(f'dg/dhx({x}) = ', output)\n",
    "    return output"
   ]
  },
  {
   "cell_type": "code",
   "execution_count": null,
   "metadata": {},
   "outputs": [],
   "source": [
    "def df_dx(x):\n",
    "    return dg_dhx(x)*dh_dx(x)"
   ]
  }
 ],
 "metadata": {
  "kernelspec": {
   "display_name": "Python 3",
   "language": "python",
   "name": "python3"
  },
  "language_info": {
   "codemirror_mode": {
    "name": "ipython",
    "version": 3
   },
   "file_extension": ".py",
   "mimetype": "text/x-python",
   "name": "python",
   "nbconvert_exporter": "python",
   "pygments_lexer": "ipython3",
   "version": "3.7.4"
  }
 },
 "nbformat": 4,
 "nbformat_minor": 4
}
