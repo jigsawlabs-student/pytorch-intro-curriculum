{
 "cells": [
  {
   "cell_type": "markdown",
   "metadata": {},
   "source": [
    "# Partial Derivatives"
   ]
  },
  {
   "cell_type": "markdown",
   "metadata": {},
   "source": [
    "### Introduction"
   ]
  },
  {
   "cell_type": "markdown",
   "metadata": {},
   "source": [
    "In previous lessons, we saw that we could use gradient descent to approach the minimum of a cost curve by repeatedly taking steps in the direction of the steepest descent.  To do this our procedure is the following: \n",
    "\n",
    "1. We begin by assigning a random value to each parameter.  \n",
    "2. Then we calculate the slope the of the cost curve as we change each parameter separately\n",
    "3. We update the parameters by changing them in proportion to the slope"
   ]
  },
  {
   "cell_type": "markdown",
   "metadata": {},
   "source": [
    "When our hypothesis function has one parameter, we need to find $J'(w_1)$, the change in our cost function as we change $w_1$.  And in a hypothesis function with two parameters, $w_1$ and $b$, we would have a cost function $J(w, b)$."
   ]
  },
  {
   "cell_type": "markdown",
   "metadata": {},
   "source": [
    "And so our task would be to find the instantaneous rate of change as we changed the parameters $w$ **and** $b$.  This means we need to find the partial derivative."
   ]
  },
  {
   "cell_type": "markdown",
   "metadata": {},
   "source": [
    "The partial derivative allows us to determine instantaneous rate of change (ie. the derivative)  of a multi-parameter function as we change just one of the parameters.\n",
    "\n",
    "Let's learn more by way of example."
   ]
  },
  {
   "cell_type": "markdown",
   "metadata": {},
   "source": [
    "### Finding the partial derivative"
   ]
  },
  {
   "cell_type": "markdown",
   "metadata": {},
   "source": [
    "To start, let's move away from the context of a cost function for right now.  Let's focus on partial derivatives of a multiparameter function in general."
   ]
  },
  {
   "cell_type": "markdown",
   "metadata": {},
   "source": [
    "Let's say that we have the following function:"
   ]
  },
  {
   "cell_type": "markdown",
   "metadata": {},
   "source": [
    "$f(x,y) = 3x^4y^2$"
   ]
  },
  {
   "cell_type": "markdown",
   "metadata": {},
   "source": [
    "So here, the output depends on two different values, $x$ and $y$.  And let's start by seeing how the output of $f(x,y)$ changes as we change the parameter $y$."
   ]
  },
  {
   "cell_type": "markdown",
   "metadata": {},
   "source": [
    "> The notation for the partial derivative of $y$ is: \n",
    "> $$\\frac{\\delta f}{\\delta y}$$\n",
    "> That is, the change in our output of the function $f$ as we change our input $y$.\n",
    "> This is also worded as, the change in the function $f$, **with respect to** $y$."
   ]
  },
  {
   "cell_type": "markdown",
   "metadata": {},
   "source": [
    "We calculate our partial derivative similarly to how we previously calculated the derivative.  Remember, that if we have a function: \n",
    "\n",
    "* $g(x) = 3x^2$\n",
    "* $g'(x) = 6x$."
   ]
  },
  {
   "cell_type": "markdown",
   "metadata": {},
   "source": [
    "Now with partial derivatives, if we have a function:"
   ]
  },
  {
   "cell_type": "markdown",
   "metadata": {},
   "source": [
    "* $f(x,y) = 3x^4y^2$, then"
   ]
  },
  {
   "cell_type": "markdown",
   "metadata": {},
   "source": [
    "* $\\frac{\\delta f}{\\delta y} = 2*3x^4y = 6x^4y$"
   ]
  },
  {
   "cell_type": "markdown",
   "metadata": {},
   "source": [
    "Do you see how we got there?  Let's see it again.\n",
    "\n",
    "* $f(x,y) = (3x^4)*y^2$\n",
    "* $\\frac{\\delta f}{\\delta y} = (3x^4)*2*y^1 = 6x^4y$"
   ]
  },
  {
   "cell_type": "markdown",
   "metadata": {},
   "source": [
    "So we found the partial derivative by only differentiating with respect to *one* of the variables.  Because we are finding $\\frac{\\delta f}{\\delta y}$, we differentiate with respect to $y$.  Every other variable is treated as a constant, and so we just apply the same rules we would apply to a constant."
   ]
  },
  {
   "cell_type": "markdown",
   "metadata": {},
   "source": [
    "Let's do one more example."
   ]
  },
  {
   "cell_type": "markdown",
   "metadata": {},
   "source": [
    "We'll use the same function: \n",
    "\n",
    "$$f(x,y) = 3x^4y^2$$\n",
    "\n",
    "But this time find $\\frac{\\delta f}{\\delta x}$"
   ]
  },
  {
   "cell_type": "markdown",
   "metadata": {},
   "source": [
    "So our answer is:"
   ]
  },
  {
   "cell_type": "markdown",
   "metadata": {},
   "source": [
    "$\\frac{\\delta f}{\\delta x} = (4x^3)*3y^2 = 12x^3y^2 $.  Do you see why?\n",
    "\n",
    "Here we just treat $3y^2$ as our constant, and then multiply $3y^2$ by $4x^3$ giving us ."
   ]
  },
  {
   "cell_type": "markdown",
   "metadata": {},
   "source": [
    "### What this means\n",
    "\n",
    "When we say that we have the partial derivative,  $\\frac{\\delta f}{\\delta x} = 12x^3y^2$, what we mean is that we can calculate the amount that this multiparameter function changes as we nudge our value of $y$.  And we make this calculation by plugging in values for $x$ and $y$ into the partial derivative we already calculated.  "
   ]
  },
  {
   "cell_type": "markdown",
   "metadata": {},
   "source": [
    "For example, if we want to see how much our function $f(x,y) = 3x^4y^2$ changes at the point $x = 2$ and $y = 1$ and nudge the function in the $x$ direction, then we already found that:\n",
    "\n",
    "$\\frac{\\delta f}{\\delta x} = 12x^3y^2$"
   ]
  },
  {
   "cell_type": "markdown",
   "metadata": {},
   "source": [
    "And so can evaluate the instantaneous rate of change in the x direction at $(2, 1)$ as:"
   ]
  },
  {
   "cell_type": "markdown",
   "metadata": {},
   "source": [
    "$12*2^3*1^2= 96$"
   ]
  },
  {
   "cell_type": "markdown",
   "metadata": {},
   "source": [
    "> So at the point $(2, 1)$ for every amount we move in the $x$ direction the output of the function increases by 96."
   ]
  },
  {
   "cell_type": "markdown",
   "metadata": {},
   "source": [
    "And because $\\frac{\\delta f}{\\delta y} =  6x^4y$\n",
    "> This means that at the point $(2, 1)$ for every amount we move in the $y$ direction the output of the function changes by $6*2^4*1 = 96$."
   ]
  },
  {
   "cell_type": "markdown",
   "metadata": {},
   "source": [
    "So in this case we just saw that if we were at the point $(2, 1)$ and wanted to increase our function as much as possible, then our function's output would change by the same amount if we took a small step in the $x$ direction as if we moved in the $y$ direction."
   ]
  },
  {
   "cell_type": "markdown",
   "metadata": {},
   "source": [
    "### Summary"
   ]
  },
  {
   "cell_type": "markdown",
   "metadata": {},
   "source": [
    "In this lesson, we learned the procedure for finding the partial the partial derivative.  When finding the partial derivative we only differentiate with respect to one of the variables, and we treat the rest of the variables as a constant. "
   ]
  },
  {
   "cell_type": "markdown",
   "metadata": {},
   "source": [
    "So, for example, given a function:"
   ]
  },
  {
   "cell_type": "markdown",
   "metadata": {},
   "source": [
    "$$f(x,y) = 3x^4y^2$$\n",
    "\n",
    "Then change in the function as we move in the $x$ can be calculated by:"
   ]
  },
  {
   "cell_type": "markdown",
   "metadata": {},
   "source": [
    "$\\frac{\\delta f}{\\delta x} = (4x^3)*3y^2 = 12x^3y^2 $"
   ]
  },
  {
   "cell_type": "markdown",
   "metadata": {},
   "source": [
    "Or in other words, that is the partial derivative with respect to $x$."
   ]
  },
  {
   "cell_type": "markdown",
   "metadata": {},
   "source": [
    "<center>\n",
    "<a href=\"https://www.jigsawlabs.io/free\" style=\"position: center\"><img src=\"https://storage.cloud.google.com/curriculum-assets/curriculum-assets.nosync/mom-files/jigsaw-labs.png\" width=\"15%\" style=\"text-align: center\"></a>\n",
    "</center>"
   ]
  }
 ],
 "metadata": {
  "kernelspec": {
   "display_name": "Python 3",
   "language": "python",
   "name": "python3"
  },
  "language_info": {
   "codemirror_mode": {
    "name": "ipython",
    "version": 3
   },
   "file_extension": ".py",
   "mimetype": "text/x-python",
   "name": "python",
   "nbconvert_exporter": "python",
   "pygments_lexer": "ipython3",
   "version": "3.8.6"
  }
 },
 "nbformat": 4,
 "nbformat_minor": 4
}
