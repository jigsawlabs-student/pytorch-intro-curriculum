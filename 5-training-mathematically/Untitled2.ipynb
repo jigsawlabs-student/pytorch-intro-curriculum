{
 "cells": [
  {
   "cell_type": "markdown",
   "id": "detected-roommate",
   "metadata": {},
   "source": [
    "# Chain Rule Pytorch"
   ]
  },
  {
   "cell_type": "markdown",
   "id": "described-irrigation",
   "metadata": {},
   "source": [
    "### Introduction"
   ]
  },
  {
   "cell_type": "markdown",
   "id": "metropolitan-indian",
   "metadata": {},
   "source": []
  },
  {
   "cell_type": "markdown",
   "id": "attached-newton",
   "metadata": {},
   "source": [
    "### Pytorch on Example Function"
   ]
  },
  {
   "cell_type": "markdown",
   "id": "adjustable-horizon",
   "metadata": {},
   "source": [
    "$(3x + 1x)^2$"
   ]
  },
  {
   "cell_type": "markdown",
   "id": "naughty-statistics",
   "metadata": {},
   "source": [
    "$(3x_1 + 1x_2)^2$"
   ]
  },
  {
   "cell_type": "markdown",
   "id": "happy-differential",
   "metadata": {},
   "source": [
    "$(w \\cdot x)^2 $\n",
    "\n",
    "* where $w = [3, 1]$\n",
    "* and $x = [2, 1]$"
   ]
  },
  {
   "cell_type": "code",
   "execution_count": 124,
   "id": "clinical-latino",
   "metadata": {},
   "outputs": [],
   "source": [
    "w = torch.tensor([3., 1.], requires_grad = True)\n",
    "\n",
    "x = torch.tensor([2., 1.])"
   ]
  },
  {
   "cell_type": "markdown",
   "id": "capital-uncle",
   "metadata": {},
   "source": [
    "$(w \\cdot x)^2 $"
   ]
  },
  {
   "cell_type": "code",
   "execution_count": 127,
   "id": "comprehensive-measurement",
   "metadata": {},
   "outputs": [
    {
     "data": {
      "text/plain": [
       "tensor(49., grad_fn=<PowBackward0>)"
      ]
     },
     "execution_count": 127,
     "metadata": {},
     "output_type": "execute_result"
    }
   ],
   "source": [
    "total = (w.dot(x))**2\n",
    "total"
   ]
  },
  {
   "cell_type": "markdown",
   "id": "democratic-bishop",
   "metadata": {},
   "source": [
    "$2(w \\cdot x)*w = 2 * (7) * w' $"
   ]
  },
  {
   "cell_type": "code",
   "execution_count": 130,
   "id": "seven-reserve",
   "metadata": {},
   "outputs": [],
   "source": [
    "total.backward()"
   ]
  },
  {
   "cell_type": "code",
   "execution_count": 132,
   "id": "industrial-scanning",
   "metadata": {},
   "outputs": [
    {
     "data": {
      "text/plain": [
       "tensor([28., 14.])"
      ]
     },
     "execution_count": 132,
     "metadata": {},
     "output_type": "execute_result"
    }
   ],
   "source": [
    "w.grad"
   ]
  },
  {
   "cell_type": "markdown",
   "id": "favorite-oxygen",
   "metadata": {},
   "source": [
    "### Our composite functions"
   ]
  },
  {
   "cell_type": "markdown",
   "id": "elect-devil",
   "metadata": {},
   "source": [
    "$z = w \\cdot x$\n",
    "\n",
    "$a = (y - z(x))^2$"
   ]
  },
  {
   "cell_type": "code",
   "execution_count": null,
   "id": "ahead-lewis",
   "metadata": {},
   "outputs": [],
   "source": [
    "2*(y - z)*x = 2*(2 + 1.2)*-2 =  "
   ]
  },
  {
   "cell_type": "code",
   "execution_count": 101,
   "id": "minus-economy",
   "metadata": {},
   "outputs": [],
   "source": [
    "import torch\n",
    "\n",
    "x = torch.tensor([-2., 5., -3., -1.1])\n",
    "\n",
    "w = torch.tensor([1., 3., 4., 2.], requires_grad = True)"
   ]
  },
  {
   "cell_type": "code",
   "execution_count": 103,
   "id": "selected-palace",
   "metadata": {},
   "outputs": [],
   "source": [
    "y_pred = w.dot(x)"
   ]
  },
  {
   "cell_type": "code",
   "execution_count": 117,
   "id": "chicken-cleaner",
   "metadata": {},
   "outputs": [
    {
     "data": {
      "text/plain": [
       "tensor(-1.2000, grad_fn=<DotBackward>)"
      ]
     },
     "execution_count": 117,
     "metadata": {},
     "output_type": "execute_result"
    }
   ],
   "source": [
    "y_pred"
   ]
  },
  {
   "cell_type": "code",
   "execution_count": 107,
   "id": "dominican-cement",
   "metadata": {},
   "outputs": [
    {
     "data": {
      "text/plain": [
       "tensor(10.2400, grad_fn=<PowBackward0>)"
      ]
     },
     "execution_count": 107,
     "metadata": {},
     "output_type": "execute_result"
    }
   ],
   "source": [
    "squared_error = (2 - y_pred)**2\n",
    "squared_error"
   ]
  },
  {
   "cell_type": "code",
   "execution_count": 109,
   "id": "rocky-thesis",
   "metadata": {},
   "outputs": [],
   "source": [
    "squared_error.backward()"
   ]
  },
  {
   "cell_type": "code",
   "execution_count": 116,
   "id": "entire-sussex",
   "metadata": {},
   "outputs": [
    {
     "data": {
      "text/plain": [
       "tensor([ 12.8000, -32.0000,  19.2000,   7.0400])"
      ]
     },
     "execution_count": 116,
     "metadata": {},
     "output_type": "execute_result"
    }
   ],
   "source": [
    "w.grad"
   ]
  },
  {
   "cell_type": "code",
   "execution_count": null,
   "id": "forbidden-orlando",
   "metadata": {},
   "outputs": [],
   "source": []
  }
 ],
 "metadata": {
  "kernelspec": {
   "display_name": "Python 3",
   "language": "python",
   "name": "python3"
  },
  "language_info": {
   "codemirror_mode": {
    "name": "ipython",
    "version": 3
   },
   "file_extension": ".py",
   "mimetype": "text/x-python",
   "name": "python",
   "nbconvert_exporter": "python",
   "pygments_lexer": "ipython3",
   "version": "3.8.6"
  }
 },
 "nbformat": 4,
 "nbformat_minor": 5
}
