{
 "cells": [
  {
   "cell_type": "markdown",
   "metadata": {},
   "source": [
    "# Training with the Chain Rule"
   ]
  },
  {
   "cell_type": "markdown",
   "metadata": {},
   "source": [
    "### Introduction"
   ]
  },
  {
   "cell_type": "markdown",
   "metadata": {},
   "source": [
    "In the last lesson, we saw how we can use the derivative to find the rate of change of a composite function.  We learned about this because our cost function itself a composite function:"
   ]
  },
  {
   "cell_type": "markdown",
   "metadata": {},
   "source": [
    "$J(w, b) = (y -  \\sigma(z(w, b)))^2$"
   ]
  },
  {
   "cell_type": "markdown",
   "metadata": {},
   "source": [
    "And with gradient descent, we want to descend along a cost curve, and we do this by calculating the slope of our curve as we change our parameters, $w$ and $b$.  Calculating this slope means to calculate the derivative, which involves the chain rule."
   ]
  },
  {
   "cell_type": "markdown",
   "metadata": {},
   "source": [
    "This is because to see how nudging the parameters $w$ and $b$ affects the output of our cost function $J(w, b)$, this affect is indirect."
   ]
  },
  {
   "cell_type": "markdown",
   "metadata": {},
   "source": [
    "### Seeing the issue"
   ]
  },
  {
   "cell_type": "markdown",
   "metadata": {},
   "source": [
    "Just like before, as a first step we can identify the components of our function, here:\n",
    "\n",
    "$J(w, b) = (y -  \\sigma(z(w, b)))^2$\n",
    "\n",
    "And it consists of functions:\n",
    "\n",
    "* $J(y -h(x))$\n",
    "* $\\sigma(z)$\n",
    "* $z(w, b)$"
   ]
  },
  {
   "cell_type": "markdown",
   "metadata": {},
   "source": [
    "And we can then translate our these functions into code."
   ]
  },
  {
   "cell_type": "code",
   "execution_count": 2,
   "metadata": {},
   "outputs": [],
   "source": [
    "import numpy as np\n",
    "def sigmoid(z):\n",
    "    output = 1/(1 + np.exp(-z))\n",
    "    print(f'sig(z) = sigmoid({round(z, 2)}) = ', round(output, 2))\n",
    "    return output \n",
    "\n",
    "def z(x, w, b):\n",
    "    output = w*x + b \n",
    "    print(f'z(x, w, b) = ({x}, {w}, {b}) = ', output)\n",
    "    return output\n",
    "\n",
    "def h(x, w, b):\n",
    "    return sigmoid(z(x, w, b))"
   ]
  },
  {
   "cell_type": "markdown",
   "metadata": {},
   "source": [
    "And then a loss function $J$ to calculate the squared error at a single value."
   ]
  },
  {
   "cell_type": "code",
   "execution_count": 3,
   "metadata": {},
   "outputs": [],
   "source": [
    "def J(y, x, w, b):\n",
    "    y_hat = h(x, w, b)\n",
    "    loss = (y - y_hat)**2\n",
    "    print(f'J = (y - y_hat)^2 = ({y} - {round(y_hat, 2)})^2 =' , loss)\n",
    "    return loss"
   ]
  },
  {
   "cell_type": "markdown",
   "metadata": {},
   "source": [
    "Ok, now let's see how our loss function changes as we change $w$ from $.1$ to $.5$."
   ]
  },
  {
   "cell_type": "markdown",
   "metadata": {},
   "source": [
    "* $w = .1$"
   ]
  },
  {
   "cell_type": "code",
   "execution_count": 4,
   "metadata": {},
   "outputs": [
    {
     "name": "stdout",
     "output_type": "stream",
     "text": [
      "z(x, w, b) = (1, 0.1, 1) =  1.1\n",
      "sig(z) = sigmoid(1.1) =  0.75\n",
      "J = (y - y_hat)^2 = (1 - 0.75)^2 = 0.062370014857361766\n"
     ]
    },
    {
     "data": {
      "text/plain": [
       "0.062370014857361766"
      ]
     },
     "execution_count": 4,
     "metadata": {},
     "output_type": "execute_result"
    }
   ],
   "source": [
    "J(1, 1, .1, 1)"
   ]
  },
  {
   "cell_type": "markdown",
   "metadata": {},
   "source": [
    "* $w = .5$"
   ]
  },
  {
   "cell_type": "code",
   "execution_count": 5,
   "metadata": {},
   "outputs": [
    {
     "name": "stdout",
     "output_type": "stream",
     "text": [
      "z(x, w, b) = (1, 0.5, 1) =  1.5\n",
      "sig(z) = sigmoid(1.5) =  0.82\n",
      "J = (y - y_hat)^2 = (1 - 0.82)^2 = 0.033279071736023486\n"
     ]
    },
    {
     "data": {
      "text/plain": [
       "0.033279071736023486"
      ]
     },
     "execution_count": 5,
     "metadata": {},
     "output_type": "execute_result"
    }
   ],
   "source": [
    "J(1, 1, .5, 1)"
   ]
  },
  {
   "cell_type": "markdown",
   "metadata": {},
   "source": [
    "Great, so we can see that changing $w$ changes the output of $z$ which changes the output of the $\\sigma$ function, which changes the output of $J(w, b)$. "
   ]
  },
  {
   "cell_type": "markdown",
   "metadata": {},
   "source": [
    "> One thing to note, is that we are not using the function $J = \\frac{1}{n}\\sum (y - \\hat{y})^2$, but simply $J = (y - \\hat{y})^2$.  This is ok, it will not change the logic, or the math -- we'll just add back taking the avarage at the end.  "
   ]
  },
  {
   "cell_type": "markdown",
   "metadata": {},
   "source": [
    "### Back to the Chain Rule"
   ]
  },
  {
   "cell_type": "markdown",
   "metadata": {},
   "source": [
    "As we saw in the last function, we can still calculate the derivative of a composite function like this by multiplying the derivatives of these nested functions together.\n",
    "\n",
    "So if we think of our function $J(w, b)$ as:\n",
    "\n",
    "$J(w, b) = J(y, (\\sigma(z(w, b, x)))$"
   ]
  },
  {
   "cell_type": "markdown",
   "metadata": {},
   "source": [
    "So then we should be able to find the derivative $J'$ as:"
   ]
  },
  {
   "cell_type": "markdown",
   "metadata": {},
   "source": [
    "$J'(w, b) = J'(\\sigma(z(w, b))*\\sigma'(z(w, b))*z'(w,b)$"
   ]
  },
  {
   "cell_type": "markdown",
   "metadata": {},
   "source": [
    "But, because we are finding the rate of change in with respect to $w$ and $b$, we can express the partial derivatives $\\frac{\\delta J}{\\delta w}$, $\\frac{\\delta J}{\\delta b}$ as the following:"
   ]
  },
  {
   "cell_type": "markdown",
   "metadata": {},
   "source": [
    "$\\frac{\\delta J}{\\delta w} = \\frac{\\delta J}{\\delta \\sigma} \\frac{\\delta \\sigma}{\\delta z} \\frac{\\delta z}{\\delta w} $\n",
    "\n",
    "$\\frac{\\delta J}{\\delta b} = \\frac{\\delta J}{\\delta \\sigma} \\frac{\\delta \\sigma}{\\delta z} \\frac{\\delta z}{\\delta b} $"
   ]
  },
  {
   "cell_type": "markdown",
   "metadata": {},
   "source": [
    "> Let's take a moment to articulate the first derivative $\\frac{\\delta J}{\\delta w}$ above.  The above is saying that the change in our cost function $J$ as we change our parameter $w$, is the affect that $w$ has on the linear function $z$, times the amount that a change in $z$ affects the output of the $\\sigma$, times the change that a change in $\\sigma$ affects $J$. "
   ]
  },
  {
   "cell_type": "markdown",
   "metadata": {},
   "source": [
    "#### 1. Break it down"
   ]
  },
  {
   "cell_type": "markdown",
   "metadata": {},
   "source": [
    "Now we can solve for the derivatives by calculating each of the components individually.\n",
    "\n",
    "$$\\frac{\\delta J}{\\delta \\sigma}, \\frac{\\delta \\sigma}{\\delta z}, \\frac{\\delta z}{\\delta w}, \\frac{\\delta z}{\\delta b}$$ "
   ]
  },
  {
   "cell_type": "markdown",
   "metadata": {},
   "source": [
    "> Note that we can calculate both $\\frac{\\delta J}{\\delta w}$ and $\\frac{\\delta J}{\\delta b}$ with only the four components above."
   ]
  },
  {
   "cell_type": "markdown",
   "metadata": {},
   "source": [
    "Ok, time to calculate our first derivative."
   ]
  },
  {
   "cell_type": "markdown",
   "metadata": {},
   "source": [
    "1. Finding $\\frac{\\delta J}{\\delta \\sigma}$"
   ]
  },
  {
   "cell_type": "markdown",
   "metadata": {},
   "source": [
    "$J(\\sigma) = (y - \\sigma)^2$"
   ]
  },
  {
   "cell_type": "markdown",
   "metadata": {},
   "source": [
    "> Where $\\sigma$ really is  $\\sigma(z(w, b))$"
   ]
  },
  {
   "cell_type": "markdown",
   "metadata": {},
   "source": [
    "So now finding $\\frac{\\delta J}{\\delta \\sigma}$ we get:"
   ]
  },
  {
   "cell_type": "markdown",
   "metadata": {},
   "source": [
    "$\\frac{\\delta J}{\\delta \\sigma} = 2(y - \\sigma)*-1 = -2(y - \\sigma) = 2(\\sigma - y )$"
   ]
  },
  {
   "cell_type": "markdown",
   "metadata": {},
   "source": [
    "And we can represent this in code as:"
   ]
  },
  {
   "cell_type": "code",
   "execution_count": 41,
   "metadata": {},
   "outputs": [],
   "source": [
    "def dl_dsig(w, b, x, y):\n",
    "    return 2*(h(w, b, x) - y)"
   ]
  },
  {
   "cell_type": "markdown",
   "metadata": {},
   "source": [
    "> This works because $\\sigma = \\sigma(z(w, b))$ and $h(x) = \\sigma(z(w, b))$ so we use substitution above."
   ]
  },
  {
   "cell_type": "markdown",
   "metadata": {},
   "source": [
    "Now onto finding the derivative of the second component."
   ]
  },
  {
   "cell_type": "markdown",
   "metadata": {},
   "source": [
    "2. Finding $\\frac{\\delta \\sigma}{\\delta z}$"
   ]
  },
  {
   "cell_type": "markdown",
   "metadata": {},
   "source": [
    "$\\sigma(z) = \\frac{1}{1 + e^{-z}}$"
   ]
  },
  {
   "cell_type": "markdown",
   "metadata": {},
   "source": [
    "$\\sigma'(z(x)) = \\sigma(z(x))*(1 - \\sigma(z(x)))$"
   ]
  },
  {
   "cell_type": "markdown",
   "metadata": {},
   "source": [
    "3. Finding $\\frac{\\delta z}{\\delta w}$"
   ]
  },
  {
   "cell_type": "markdown",
   "metadata": {},
   "source": [
    "Remember that $z(w, b) = wx + b$, so:\n",
    "\n",
    "$\\frac{\\delta z}{\\delta w} = x$"
   ]
  },
  {
   "cell_type": "markdown",
   "metadata": {},
   "source": [
    "### Combining Together"
   ]
  },
  {
   "cell_type": "markdown",
   "metadata": {},
   "source": [
    "Ok, now we have found all of the derivatives necessary to find $\\frac{\\delta J}{\\delta w}$."
   ]
  },
  {
   "cell_type": "markdown",
   "metadata": {},
   "source": [
    "$\\frac{\\delta J}{\\delta w} = \\frac{\\delta J}{\\delta \\sigma} \\frac{\\delta \\sigma}{\\delta z} \\frac{\\delta z}{\\delta w} = 2(\\sigma(z(x_i) - y_i)*\\sigma(z(x))(1 - \\sigma(z(x))) * x_i$"
   ]
  },
  {
   "cell_type": "markdown",
   "metadata": {},
   "source": [
    "So and we can represent this in code as simply the multiplication of all of our previously found derivatives:"
   ]
  },
  {
   "cell_type": "code",
   "execution_count": 42,
   "metadata": {},
   "outputs": [],
   "source": [
    "def dJ_dw(w, b, x, i):\n",
    "    return dl_dsig(w, b, x, y)*dsig_dz(w, b, x, y)*dz_dw(x)"
   ]
  },
  {
   "cell_type": "markdown",
   "metadata": {},
   "source": [
    "Excellent we did it.  We found $\\frac{\\delta J}{\\delta w}$."
   ]
  },
  {
   "cell_type": "markdown",
   "metadata": {},
   "source": [
    "### Calculating the other partial derivative"
   ]
  },
  {
   "cell_type": "markdown",
   "metadata": {},
   "source": [
    "$\\frac{\\delta J}{\\delta b} = \\frac{\\delta J}{\\delta \\sigma} \\frac{\\delta \\sigma}{\\delta z} \\frac{\\delta z}{\\delta b} $"
   ]
  },
  {
   "cell_type": "code",
   "execution_count": 12,
   "metadata": {},
   "outputs": [],
   "source": [
    "def dJ_db(w, b, x, i):\n",
    "    return dl_dsig(w, b, x, y)*dsig_dz(w, b, x, y)*1"
   ]
  },
  {
   "cell_type": "markdown",
   "metadata": {},
   "source": [
    "### Summary"
   ]
  },
  {
   "cell_type": "markdown",
   "metadata": {},
   "source": [
    "In this lesson we saw how to think of our cost function, $J$ as a composite function:\n",
    "\n",
    "$J(w, b) = (y -  \\sigma(z(w, b)))^2$\n",
    "\n",
    "Therefore, to see how a nudging our parameters, here $w$ and $b$, will affect the output of our cost function, we need to apply the chain rule.  This means that we solved for the rate of change of our cost function, with respect to one of our parameters $\\frac{\\delta J}{\\delta w}$ or $\\frac{\\delta J}{\\delta b}$ by calculating each of the components individually.\n",
    "\n",
    "$$\\frac{\\delta l}{\\delta \\sigma}, \\frac{\\delta \\sigma}{\\delta z}, \\frac{\\delta z}{\\delta w}, \\frac{\\delta z}{\\delta b}$$ "
   ]
  },
  {
   "cell_type": "markdown",
   "metadata": {},
   "source": [
    "Once we calculated these derivatives we then could combine the derivatives to find how the cost function changes with respect to each of our parameters.  That is we, could then find $\\frac{\\delta J}{\\delta w}$ and $\\frac{\\delta J}{\\delta b}$ as:"
   ]
  },
  {
   "cell_type": "markdown",
   "metadata": {},
   "source": [
    "$\\frac{\\delta J}{\\delta w}  = \\frac{\\delta J}{\\delta \\sigma} \\frac{\\delta \\sigma}{\\delta z} \\frac{\\delta z}{\\delta w} $  and\n",
    "\n",
    "$\\frac{\\delta J}{\\delta b}  = \\frac{\\delta J}{\\delta \\sigma} \\frac{\\delta \\sigma}{\\delta z} \\frac{\\delta z}{\\delta b} $   "
   ]
  },
  {
   "cell_type": "markdown",
   "metadata": {},
   "source": [
    "<center>\n",
    "<a href=\"https://www.jigsawlabs.io/free\" style=\"position: center\"><img src=\"jigsaw-icon.png\" width=\"10%\" style=\"text-align: center\"></a>\n",
    "</center>"
   ]
  }
 ],
 "metadata": {
  "kernelspec": {
   "display_name": "Python 3",
   "language": "python",
   "name": "python3"
  },
  "language_info": {
   "codemirror_mode": {
    "name": "ipython",
    "version": 3
   },
   "file_extension": ".py",
   "mimetype": "text/x-python",
   "name": "python",
   "nbconvert_exporter": "python",
   "pygments_lexer": "ipython3",
   "version": "3.8.6"
  }
 },
 "nbformat": 4,
 "nbformat_minor": 4
}
