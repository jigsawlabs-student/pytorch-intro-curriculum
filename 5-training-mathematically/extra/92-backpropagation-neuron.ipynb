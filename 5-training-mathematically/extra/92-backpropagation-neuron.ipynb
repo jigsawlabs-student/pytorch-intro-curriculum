{
 "cells": [
  {
   "cell_type": "markdown",
   "metadata": {},
   "source": [
    "# Introducing Backpropagation"
   ]
  },
  {
   "cell_type": "markdown",
   "metadata": {},
   "source": [
    "### Introduction"
   ]
  },
  {
   "cell_type": "markdown",
   "metadata": {},
   "source": [
    "$J(w, b) = (y -  \\sigma(z(w, b)))^2$"
   ]
  },
  {
   "cell_type": "markdown",
   "metadata": {},
   "source": [
    "$\\frac{\\delta J}{\\delta w} = \\frac{\\delta J}{\\delta \\sigma} \\frac{\\delta \\sigma}{\\delta z} \\frac{\\delta z}{\\delta w} $\n",
    "\n",
    "$\\frac{\\delta J}{\\delta b} = \\frac{\\delta J}{\\delta \\sigma} \\frac{\\delta \\sigma}{\\delta z} \\frac{\\delta z}{\\delta b} $"
   ]
  },
  {
   "cell_type": "markdown",
   "metadata": {},
   "source": [
    "$\\frac{\\delta J}{\\delta w} = \\frac{\\delta J}{\\delta \\sigma} \\frac{\\delta \\sigma}{\\delta z} \\frac{\\delta z}{\\delta w} = 2(\\sigma(z(x_i) - y_i)*\\sigma(z(x))(1 - \\sigma(z(x))) * x_i$"
   ]
  },
  {
   "cell_type": "markdown",
   "metadata": {},
   "source": [
    "$\\frac{\\delta J}{\\delta b} = \\frac{\\delta J}{\\delta \\sigma} \\frac{\\delta \\sigma}{\\delta z} \\frac{\\delta z}{\\delta b} = 2(\\sigma(z(x_i) - y_i)*\\sigma(z(x))(1 - \\sigma(z(x))) *1$"
   ]
  },
  {
   "cell_type": "code",
   "execution_count": 1,
   "metadata": {},
   "outputs": [],
   "source": [
    "def dJ_dw(w, b, x, i):\n",
    "    return dl_dsig(w, b, x, y)*dsig_dz(w, b, x, y)*dz_dw(x)"
   ]
  },
  {
   "cell_type": "code",
   "execution_count": 3,
   "metadata": {},
   "outputs": [],
   "source": [
    "def dJ_db(w, b, x, i):\n",
    "    return dl_dsig(w, b, x, y)*dsig_dz(w, b, x, y)*1"
   ]
  },
  {
   "cell_type": "code",
   "execution_count": 1,
   "metadata": {},
   "outputs": [],
   "source": [
    "def dl_dsig(w, b, x, y):\n",
    "    return 2*(h(w, b, x) - y)"
   ]
  },
  {
   "cell_type": "markdown",
   "metadata": {},
   "source": [
    "### A little note about derivatives"
   ]
  },
  {
   "cell_type": "markdown",
   "metadata": {},
   "source": [
    "Before moving onto backpropagation, let's show a little trick with the derivatives.  Remember that we said that $\\frac{\\delta J}{\\delta w}$ is the following:"
   ]
  },
  {
   "cell_type": "markdown",
   "metadata": {},
   "source": [
    "$\\frac{\\delta J}{\\delta w} = \\frac{\\delta J}{\\delta \\sigma} \\frac{\\delta \\sigma}{\\delta z} \\frac{\\delta z}{\\delta w}$"
   ]
  },
  {
   "cell_type": "markdown",
   "metadata": {},
   "source": [
    "One way of checking your work is treat the derivatives on the right as if they were fractions, and make sure that the two sides of the equation really are equal.  So applying this to the above, we see that:"
   ]
  },
  {
   "cell_type": "markdown",
   "metadata": {},
   "source": [
    "$\\frac{\\delta J}{\\delta w} = \\frac{\\delta J}{\\delta \\sigma} \\frac{\\delta \\sigma}{\\delta z} \\frac{\\delta z}{\\delta w} = \\frac{\\delta J {\\delta{\\sigma}} \\delta z}{\\delta \\sigma \\delta z \\delta w}= \\frac{\\delta J}{\\delta w}$"
   ]
  },
  {
   "cell_type": "markdown",
   "metadata": {},
   "source": [
    "Similarly we can check that we have identified the components of $\\frac{\\delta J}{\\delta b}$ by treating the derivatives on the right as fractions and ensuring the two sides are equal:"
   ]
  },
  {
   "cell_type": "markdown",
   "metadata": {},
   "source": [
    "$\\frac{\\delta J}{\\delta b} = \\frac{\\delta J}{\\delta \\sigma} \\frac{\\delta \\sigma}{\\delta z} \\frac{\\delta z}{\\delta b} = \\frac{\\delta J {\\delta{\\sigma}} \\delta z}{\\delta \\sigma \\delta z \\delta b}= \\frac{\\delta J}{\\delta b}$"
   ]
  },
  {
   "cell_type": "markdown",
   "metadata": {},
   "source": [
    "### Moving to backpropagation"
   ]
  },
  {
   "cell_type": "markdown",
   "metadata": {},
   "source": [
    "So what we saw above are perfectly valid ways of calculating the derivative.  For example, we calculated $\\frac{\\delta J}{\\delta w}$ as:"
   ]
  },
  {
   "cell_type": "markdown",
   "metadata": {},
   "source": [
    "$\\frac{\\delta J}{\\delta w} = \\frac{\\delta J}{\\delta \\sigma} \\frac{\\delta \\sigma}{\\delta z} \\frac{\\delta z}{\\delta w}$"
   ]
  },
  {
   "cell_type": "markdown",
   "metadata": {},
   "source": [
    "And as we know, $\\frac{\\delta J}{\\delta w}$ is the impact of a change in $w$ on $J$.  \n",
    "\n",
    "But what if we want to know some of the intermediate functions' impact on our cost function $J$.  For example, what if we want to know how a change in the output $z$ affects the output of $J$.  Well we can calculate each intermediate derivative with respect to $J$ **with no extra work** if we recalculate our derivative using the following procedure:\n",
    "\n",
    "* Given a function:"
   ]
  },
  {
   "cell_type": "markdown",
   "metadata": {},
   "source": [
    "$J(w, b) = (y -  \\sigma(z(w, b)))^2$, then:"
   ]
  },
  {
   "cell_type": "markdown",
   "metadata": {},
   "source": [
    "1. $\\frac{\\delta J}{\\delta \\sigma} = \\frac{\\delta J}{\\delta \\sigma}$ \n",
    "\n",
    "2. $ \\frac{\\delta J}{\\delta z} = \\frac{\\delta J}{\\delta \\sigma}* \\frac{\\delta \\sigma}{\\delta z}$\n",
    "\n",
    "3. $ \\frac{\\delta J}{\\delta w} = \\frac{\\delta J}{\\delta z}* \\frac{\\delta z}{\\delta w}$"
   ]
  },
  {
   "cell_type": "markdown",
   "metadata": {},
   "source": [
    "So looking at the second partial derivative, $\\frac{\\delta J}{\\delta z}$ we calculate it by multiplying:\n",
    "\n",
    "* the immediately upstream derivative, $\\frac{\\delta J}{\\delta \\sigma}$, by \n",
    "* the local derivative, $\\frac{\\delta \\sigma}{\\delta z}$."
   ]
  },
  {
   "cell_type": "markdown",
   "metadata": {},
   "source": [
    "And looking at the final partial derivative, $\\frac{\\delta J}{\\delta w}$, we calculate it by multiplying:\n",
    "\n",
    "* the immediately upstream derivative, $\\frac{\\delta J}{\\delta z}$, by \n",
    "* the local derivative, $\\frac{\\delta z}{\\delta w}$."
   ]
  },
  {
   "cell_type": "markdown",
   "metadata": {},
   "source": [
    "This is the idea behind backpropagation.  The idea is that given our cost function, here:\n",
    "\n",
    "$J(w, b) = (y -  \\sigma(z(w, b)))^2$"
   ]
  },
  {
   "cell_type": "markdown",
   "metadata": {},
   "source": [
    "1. $\\frac{\\delta J}{\\delta \\sigma} = \\frac{\\delta J}{\\delta \\sigma}$ \n",
    "\n",
    "2. $ \\frac{\\delta J}{\\delta z} = \\frac{\\delta J}{\\delta \\sigma}* \\frac{\\delta \\sigma}{\\delta z}$\n",
    "\n",
    "3. $ \\frac{\\delta J}{\\delta w} = \\frac{\\delta J}{\\delta z}* \\frac{\\delta z}{\\delta w}$"
   ]
  },
  {
   "cell_type": "markdown",
   "metadata": {},
   "source": [
    "### Backpropagation in code"
   ]
  },
  {
   "cell_type": "markdown",
   "metadata": {},
   "source": [
    "So the change above is slight.  And the change to our code that calculates the derivative `dJ_dw` is also pretty slight. \n",
    "\n",
    "> This was our original code:"
   ]
  },
  {
   "cell_type": "code",
   "execution_count": 5,
   "metadata": {},
   "outputs": [],
   "source": [
    "def dJ_dw(w, b, x, i):\n",
    "    return dl_dsig(w, b, x, y)*dsig_dz(w, b, x, y)*dz_dw(x)"
   ]
  },
  {
   "cell_type": "markdown",
   "metadata": {},
   "source": [
    "* And our new code represents the steps that we saw above:\n",
    "\n",
    "1. $\\frac{\\delta J}{\\delta \\sigma} = \\frac{\\delta J}{\\delta \\sigma}$ \n",
    "\n",
    "2. $ \\frac{\\delta J}{\\delta z} = \\frac{\\delta J}{\\delta \\sigma}* \\frac{\\delta \\sigma}{\\delta z}$\n",
    "\n",
    "3. $ \\frac{\\delta J}{\\delta w} = \\frac{\\delta J}{\\delta z}* \\frac{\\delta z}{\\delta w}$"
   ]
  },
  {
   "cell_type": "code",
   "execution_count": 6,
   "metadata": {},
   "outputs": [],
   "source": [
    "def dJ_dw(w, b, x, i):\n",
    "    dJ_dsig_result = dJ_dsig(w, b, x, y)\n",
    "    dJ_dz_result = dsig_dz(w, b, x, y)*dJ_dsig_result\n",
    "    dJ_dw_result = dz_dw(x)*dJ_dz_result\n",
    "    return dJ_dw"
   ]
  },
  {
   "cell_type": "markdown",
   "metadata": {},
   "source": [
    "Now the reason why something like this is so valuable is because we can continue to reuse these derivatives when we go to calculate $\\frac{\\delta J}{\\delta b}$.  This is because we have already done a lot of the work.  After all, both $\\frac{\\delta J}{\\delta w}$ and $\\frac{\\delta J}{\\delta b}$ are both the upstream derivative multiplied by the local derivative:"
   ]
  },
  {
   "cell_type": "markdown",
   "metadata": {},
   "source": [
    "$\\frac{\\delta J}{\\delta w} = \\frac{\\delta J}{\\delta z}\\frac{\\delta z}{\\delta w}$"
   ]
  },
  {
   "cell_type": "markdown",
   "metadata": {},
   "source": [
    "$\\frac{\\delta J}{\\delta b} = \\frac{\\delta J}{\\delta z}\\frac{\\delta z}{\\delta b}$"
   ]
  },
  {
   "cell_type": "markdown",
   "metadata": {},
   "source": [
    "And in code we can calculate both derivatives by just slightly changing our code."
   ]
  },
  {
   "cell_type": "code",
   "execution_count": 50,
   "metadata": {},
   "outputs": [],
   "source": [
    "def dJ_dw_and_dJ_db(w, b, x, y):\n",
    "\n",
    "    dJ_dsig_result = dl_dsig(w, b, x, y)\n",
    "    dJ_dz_result = dJ_dsig_result*dsig_dz(w, b, x, y)\n",
    "    # the upstream derivatives above, are shared\n",
    "    # by the partial derivatives below\n",
    "    \n",
    "    dJ_dw = dJ_dz_result*dz_dw(x)\n",
    "    dJ_db = dJ_dz_result*dz_db(x)\n",
    "    return (dJ_dw, dJ_db)"
   ]
  },
  {
   "cell_type": "markdown",
   "metadata": {},
   "source": [
    "So you can see by calculating the derivatives from starting at the outermost layer $\\frac{\\delta J}{\\delta \\sigma}$ and working inwards, we can then continue to reuse these already calculated upstream derivatives as we go. "
   ]
  },
  {
   "cell_type": "markdown",
   "metadata": {},
   "source": [
    "### Summary"
   ]
  },
  {
   "cell_type": "markdown",
   "metadata": {},
   "source": [
    "In this lesson we learned about backpropagation.  We saw that with backpropagation, we start with a cost function, in this lesson:"
   ]
  },
  {
   "cell_type": "markdown",
   "metadata": {},
   "source": [
    "$J(w, b) = (y -  \\sigma(z(w, b)))^2$"
   ]
  },
  {
   "cell_type": "markdown",
   "metadata": {},
   "source": [
    "Then, we calculate the derivative with a series of steps, starting with the outermost function and moving inwards.  Along the way, we calculate each derivative's impact on our cost function $J$.  This means that we change our original approach of calculating $\\frac{\\delta J}{\\delta w}$ as:"
   ]
  },
  {
   "cell_type": "markdown",
   "metadata": {},
   "source": [
    "$\\frac{\\delta J}{\\delta w} = \\frac{\\delta J}{\\delta \\sigma} \\frac{\\delta \\sigma}{\\delta z} \\frac{\\delta z}{\\delta w}$"
   ]
  },
  {
   "cell_type": "markdown",
   "metadata": {},
   "source": [
    "to:"
   ]
  },
  {
   "cell_type": "markdown",
   "metadata": {},
   "source": [
    "1. $\\frac{\\delta J}{\\delta \\sigma} = \\frac{\\delta J}{\\delta \\sigma}$ \n",
    "\n",
    "2. $ \\frac{\\delta J}{\\delta z} = \\frac{\\delta J}{\\delta \\sigma}* \\frac{\\delta \\sigma}{\\delta z}$\n",
    "\n",
    "3. $ \\frac{\\delta J}{\\delta w} = \\frac{\\delta J}{\\delta z}* \\frac{\\delta z}{\\delta w}$"
   ]
  },
  {
   "cell_type": "markdown",
   "metadata": {},
   "source": [
    "And the key is that to calculate each derivative, we mutliply the derivative directly upstream by the local derivative.  So for example, to find $\\frac{\\delta J}{\\delta z}$ we use the upstream derivative $\\frac{\\delta J}{\\delta \\sigma}$ and multiply it by the local derivative $\\frac{\\delta \\sigma}{\\delta z}$.  "
   ]
  },
  {
   "cell_type": "markdown",
   "metadata": {},
   "source": [
    "This allows us to reuse our calculations.  Like when we calculate $\\frac{\\delta J}{\\delta b}$ by using the already calculated upstream derivative $\\frac{\\delta J}{z}$ as:"
   ]
  },
  {
   "cell_type": "markdown",
   "metadata": {},
   "source": [
    "$ \\frac{\\delta J}{\\delta b} = \\frac{\\delta J}{\\delta z}* \\frac{\\delta z}{\\delta b}$"
   ]
  },
  {
   "cell_type": "markdown",
   "metadata": {},
   "source": [
    "Being able to our upstream derivatives will become even more important as we add more layers to our network, but we'll save that for a future lesson."
   ]
  },
  {
   "cell_type": "markdown",
   "metadata": {},
   "source": [
    "<center>\n",
    "<a href=\"https://www.jigsawlabs.io/free\" style=\"position: center\"><img src=\"./jigsaw-icon.png\" width=\"10%\" style=\"text-align: center\"></a>\n",
    "</center>"
   ]
  }
 ],
 "metadata": {
  "kernelspec": {
   "display_name": "Python 3",
   "language": "python",
   "name": "python3"
  },
  "language_info": {
   "codemirror_mode": {
    "name": "ipython",
    "version": 3
   },
   "file_extension": ".py",
   "mimetype": "text/x-python",
   "name": "python",
   "nbconvert_exporter": "python",
   "pygments_lexer": "ipython3",
   "version": "3.8.6"
  }
 },
 "nbformat": 4,
 "nbformat_minor": 4
}
