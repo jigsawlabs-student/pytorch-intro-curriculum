{
 "cells": [
  {
   "cell_type": "markdown",
   "id": "governmental-making",
   "metadata": {},
   "source": [
    "# Matrix Algebra with Gradient Descent"
   ]
  },
  {
   "cell_type": "markdown",
   "id": "mighty-stanley",
   "metadata": {},
   "source": [
    "### Introduction"
   ]
  },
  {
   "cell_type": "markdown",
   "id": "endless-petite",
   "metadata": {},
   "source": [
    "So in the last lesson, we saw how we can descend a multidimensional cost curve with gradient descent."
   ]
  },
  {
   "cell_type": "code",
   "execution_count": 136,
   "id": "secondary-speaking",
   "metadata": {},
   "outputs": [],
   "source": [
    "import pandas as pd\n",
    "url = \"./cost_curve_three_d.json\"\n",
    "\n",
    "# df = pd.read_json(url)\n",
    "\n",
    "# go.Figure(df.to_dict('records'))"
   ]
  },
  {
   "cell_type": "markdown",
   "id": "champion-working",
   "metadata": {},
   "source": [
    "And from there, we described our strategy as leaning in each direction, and then walking in proportion to the steepness in each direction."
   ]
  },
  {
   "cell_type": "markdown",
   "id": "continued-horse",
   "metadata": {},
   "source": [
    "<img src=\"./walk-downhill.png\" width=\"30%\">"
   ]
  },
  {
   "cell_type": "markdown",
   "id": "geographic-wayne",
   "metadata": {},
   "source": [
    "We can can think of this as the biggest bang for our buck approach -- the steeper the slope descends, the more we move in that direction."
   ]
  },
  {
   "cell_type": "markdown",
   "id": "combined-rogers",
   "metadata": {},
   "source": [
    "### A review, and the gradient"
   ]
  },
  {
   "cell_type": "markdown",
   "id": "constant-context",
   "metadata": {},
   "source": [
    "Now we saw that to this idea of leaning to the left and leaning to the right really involved taking the partial derivative with respect to each parameter.  So when our linear function is:"
   ]
  },
  {
   "cell_type": "markdown",
   "id": "designed-delaware",
   "metadata": {},
   "source": [
    "$z = w*x + b$ and"
   ]
  },
  {
   "cell_type": "markdown",
   "id": "emotional-wheat",
   "metadata": {},
   "source": [
    "Then taking the partial derivative with respect to each parameter means taking the partial derivative first with respect to $w$ and then with respect to $b$.  So remember that whatever variables we *are not* taking the partial derivative with respect to, we treat as just a number.  \n",
    "\n",
    "* So when taking the partial derivative $\\frac{\\delta z}{\\delta w}$, we treat $b$ as if it were just a number, which gives us the following: \n",
    "\n",
    "    * $z = w*x + b$ and\n",
    "    * $\\frac{\\delta z}{\\delta w} = w^0*x + 0 = x$"
   ]
  },
  {
   "cell_type": "markdown",
   "id": "contemporary-voice",
   "metadata": {},
   "source": [
    "* And when taking the partial derivative $\\frac{\\delta z}{\\delta b}$, we treat $w$ as if it were just a number, which gives us the following:\n",
    "\n",
    "    * $z = w*x + b$ and\n",
    "    \n",
    "    * $\\frac{\\delta z}{\\delta b} = w*x + b = 0 +  b^{0} = 1$"
   ]
  },
  {
   "cell_type": "markdown",
   "id": "metric-upset",
   "metadata": {},
   "source": [
    "The partial derivatives that we found above can be represented as a vector.  A vector that represents the rate of change each direction.  And we represent this vector with the greek letter nabla,$\\nabla$, which represents our gradient.  So our gradient looks like the following:\n",
    "\n",
    "$$\\nabla z(w,b) = \\begin{bmatrix}\n",
    "\\frac{\\delta z}{\\delta w} \\\\\n",
    "  \\frac{\\delta z}{\\delta b} \n",
    "\\end{bmatrix}$$"
   ]
  },
  {
   "cell_type": "markdown",
   "id": "charged-proxy",
   "metadata": {},
   "source": [
    "Or applying this to gradient of our linear function above, we get the following $z(w, b) = wx + b$\n",
    "\n",
    "$$\\nabla z(w,b) = \\begin{bmatrix}\n",
    "x \\\\\n",
    " 1 \n",
    "\\end{bmatrix}$$"
   ]
  },
  {
   "cell_type": "markdown",
   "id": "affected-battle",
   "metadata": {},
   "source": [
    "> The **gradient** of a function is a vector whose entries are the partial derivatives of the function.  It is the direction of fastest increase.  For gradient descent, we move in the direction of the negative gradient -- or the direction of greatest decrease."
   ]
  },
  {
   "cell_type": "markdown",
   "id": "centered-lover",
   "metadata": {},
   "source": [
    "So moving in the greatest descent, applied to our function $z$ above, we get the following:\n",
    "\n",
    "$$ - \\nabla z(w,b) = \\begin{bmatrix}\n",
    " -x \\\\\n",
    "  -1 \n",
    "\\end{bmatrix}$$"
   ]
  },
  {
   "cell_type": "markdown",
   "id": "minus-greene",
   "metadata": {},
   "source": [
    "And this is our vector of our partial derivatives with respect to each of our parameters in our linear function: $\\nabla z(w,b) = \\begin{bmatrix}\n",
    "\\frac{\\delta z}{\\delta w} \\\\\n",
    "  \\frac{\\delta z}{\\delta b} \n",
    "\\end{bmatrix}$."
   ]
  },
  {
   "cell_type": "markdown",
   "id": "immune-escape",
   "metadata": {},
   "source": [
    "### Extending to multiple weights "
   ]
  },
  {
   "cell_type": "markdown",
   "id": "harmful-kinase",
   "metadata": {},
   "source": [
    "Now remember that our linear function will often multiple weights -- one for each feature in an observation.  So let's assume that we have a linear function that looks like the following: "
   ]
  },
  {
   "cell_type": "markdown",
   "id": "celtic-pocket",
   "metadata": {},
   "source": [
    "$z = w_1*x_1 + w_2*x_2 + b$"
   ]
  },
  {
   "cell_type": "markdown",
   "id": "alternate-impact",
   "metadata": {},
   "source": [
    "Then taking the partial derivative with respect to each parameter, we get the following:"
   ]
  },
  {
   "cell_type": "markdown",
   "id": "cross-playing",
   "metadata": {},
   "source": [
    "*  $\\frac{\\delta z}{\\delta w_1} = w_1^0*x_1 + 0 + 0 = x_1$"
   ]
  },
  {
   "cell_type": "markdown",
   "id": "specified-prevention",
   "metadata": {},
   "source": [
    "*  $\\frac{\\delta z}{\\delta w_2} = 0 + w_2^0*x_2 + 0 = x_2$\n",
    "\n",
    "*  $\\frac{\\delta z}{\\delta b} = 0 + 0 + b^0 = 1$"
   ]
  },
  {
   "cell_type": "markdown",
   "id": "beginning-houston",
   "metadata": {},
   "source": [
    "So because we treat each term we are not taking the partial derivative with respect to as a just a number, for every term other than the one we are taking our partial derivative of, the term turns to a zero.  So if we want to express our gradient, it looks like the following:"
   ]
  },
  {
   "cell_type": "markdown",
   "id": "cardiac-blond",
   "metadata": {},
   "source": [
    "$\\nabla z(w_1,w_2, b) = \\begin{bmatrix}\n",
    "\\frac{\\delta z}{\\delta w_1} \\\\\n",
    "\\frac{\\delta z}{\\delta w_2} \\\\\n",
    "  \\frac{\\delta z}{\\delta b} \n",
    "\\end{bmatrix} = \\begin{bmatrix}\n",
    "x_1 \\\\\n",
    "x_2 \\\\\n",
    "  1\n",
    "\\end{bmatrix}$"
   ]
  },
  {
   "cell_type": "markdown",
   "id": "resident-plastic",
   "metadata": {},
   "source": [
    "So when we move to a multiparameter linear function, this is our gradient -- it's just the values of the vector $x$. "
   ]
  },
  {
   "cell_type": "markdown",
   "id": "settled-villa",
   "metadata": {},
   "source": [
    "### Confirming in Pytorch"
   ]
  },
  {
   "cell_type": "markdown",
   "id": "matched-logistics",
   "metadata": {},
   "source": [
    "We can confirm this if we move to pytorch.  We can translate our linear function above:"
   ]
  },
  {
   "cell_type": "markdown",
   "id": "handmade-friendship",
   "metadata": {},
   "source": [
    "$z = w_1*x_1 + w_2*x_2 + b$"
   ]
  },
  {
   "cell_type": "markdown",
   "id": "charitable-storage",
   "metadata": {},
   "source": [
    "Into our expression with the dot product."
   ]
  },
  {
   "cell_type": "markdown",
   "id": "periodic-effectiveness",
   "metadata": {},
   "source": [
    "$z = x \\cdot w + b$"
   ]
  },
  {
   "cell_type": "code",
   "execution_count": 156,
   "id": "limiting-panama",
   "metadata": {},
   "outputs": [],
   "source": [
    "import torch\n",
    "\n",
    "x = torch.tensor([1., 2., 3.])\n",
    "\n",
    "w = torch.tensor([2., 4., 8.], requires_grad = True)\n",
    "\n",
    "b = torch.tensor(3., requires_grad = True)"
   ]
  },
  {
   "cell_type": "code",
   "execution_count": 157,
   "id": "sharp-testing",
   "metadata": {},
   "outputs": [
    {
     "data": {
      "text/plain": [
       "tensor(37., grad_fn=<AddBackward0>)"
      ]
     },
     "execution_count": 157,
     "metadata": {},
     "output_type": "execute_result"
    }
   ],
   "source": [
    "z = x @ w + b\n",
    "z"
   ]
  },
  {
   "cell_type": "markdown",
   "id": "excellent-mustang",
   "metadata": {},
   "source": [
    "And the derivative should just be the vector $x$ followed by the number 1 for the bias term.  We can see this in Pytorch."
   ]
  },
  {
   "cell_type": "code",
   "execution_count": 158,
   "id": "altered-folks",
   "metadata": {},
   "outputs": [],
   "source": [
    "z.backward()"
   ]
  },
  {
   "cell_type": "code",
   "execution_count": 159,
   "id": "solar-basin",
   "metadata": {},
   "outputs": [
    {
     "data": {
      "text/plain": [
       "tensor([1., 2., 3.])"
      ]
     },
     "execution_count": 159,
     "metadata": {},
     "output_type": "execute_result"
    }
   ],
   "source": [
    "w.grad"
   ]
  },
  {
   "cell_type": "markdown",
   "id": "lesbian-dubai",
   "metadata": {},
   "source": [
    "> So above, this is saying that the gradient of $w$ is just the vector $x$, $[x_1, x_2, x_3]$."
   ]
  },
  {
   "cell_type": "markdown",
   "id": "extreme-textbook",
   "metadata": {},
   "source": [
    "And if we look at the gradient of $b$, we see this is 1."
   ]
  },
  {
   "cell_type": "code",
   "execution_count": 160,
   "id": "endless-aluminum",
   "metadata": {},
   "outputs": [
    {
     "data": {
      "text/plain": [
       "tensor(1.)"
      ]
     },
     "execution_count": 160,
     "metadata": {},
     "output_type": "execute_result"
    }
   ],
   "source": [
    "b.grad"
   ]
  },
  {
   "cell_type": "markdown",
   "id": "female-prison",
   "metadata": {},
   "source": [
    "### Extending To The Cost Curve"
   ]
  },
  {
   "cell_type": "markdown",
   "id": "instrumental-vegetable",
   "metadata": {},
   "source": [
    "So above, we saw how to calculate the gradient of our linear function $z = w_1*x_1 + w_2*x_2 + b$, which we saw was a vector of partial derivatives with respect to each of our parameters:\n",
    "\n",
    "$\\nabla z(w_1,w_2, b) = \\begin{bmatrix}\n",
    "\\frac{\\delta z}{\\delta w_1} \\\\\n",
    "\\frac{\\delta z}{\\delta w_2} \\\\\n",
    "  \\frac{\\delta z}{\\delta b} \n",
    "\\end{bmatrix} = \\begin{bmatrix}\n",
    "x_1 \\\\\n",
    "x_2 \\\\\n",
    "  1\n",
    "\\end{bmatrix}$"
   ]
  },
  {
   "cell_type": "markdown",
   "id": "voluntary-council",
   "metadata": {},
   "source": [
    "Now this gradient, indicates to us how the output of the linear function changes as we nudge any of our parameter terms.  And we saw that for our weight vector $w$, this was just the vector $x$, and for the bias term it was just the number $1$.  Notice that this is essentially what we wrote in the previous lesson.  "
   ]
  },
  {
   "cell_type": "code",
   "execution_count": 164,
   "id": "irish-combining",
   "metadata": {},
   "outputs": [],
   "source": [
    "def delta_z_delta_w(x):\n",
    "    return x"
   ]
  },
  {
   "cell_type": "code",
   "execution_count": 162,
   "id": "characteristic-cycle",
   "metadata": {},
   "outputs": [],
   "source": [
    "def delta_z_delta_b():\n",
    "    return 1"
   ]
  },
  {
   "cell_type": "markdown",
   "id": "running-defensive",
   "metadata": {},
   "source": [
    "But here, `delta_z_delta_w` returns the entire vector $x$. "
   ]
  },
  {
   "cell_type": "code",
   "execution_count": 165,
   "id": "tested-williams",
   "metadata": {},
   "outputs": [
    {
     "data": {
      "text/plain": [
       "tensor([1., 2., 3.])"
      ]
     },
     "execution_count": 165,
     "metadata": {},
     "output_type": "execute_result"
    }
   ],
   "source": [
    "delta_z_delta_w(x)"
   ]
  },
  {
   "cell_type": "markdown",
   "id": "sacred-concentration",
   "metadata": {},
   "source": [
    "Now ultimately, we don't want how each of our parameters alter the linear function but how a change in the output of our linear function affects our activation function which affects our cost function.  This looks like the following:"
   ]
  },
  {
   "cell_type": "markdown",
   "id": "tough-jurisdiction",
   "metadata": {},
   "source": [
    "$\\nabla J(w_1,w_2, b) = \\begin{bmatrix}\n",
    "\\frac{\\delta J}{\\delta \\sigma} * \\frac{\\delta \\sigma}{\\delta z} * \\frac{\\delta z}{\\delta w_1} \\\\\n",
    "\\frac{\\delta J}{\\delta \\sigma} * \\frac{\\delta \\sigma}{\\delta z} * \\frac{\\delta z}{\\delta w_2} \\\\\n",
    "\\frac{\\delta J}{\\delta \\sigma} * \\frac{\\delta \\sigma}{\\delta z} * \\frac{\\delta z}{\\delta b}\n",
    "\\end{bmatrix} = \\begin{bmatrix}\n",
    "\\frac{\\delta J}{\\delta \\sigma} * \\frac{\\delta \\sigma}{\\delta z}*x_1\\\\\n",
    "\\frac{\\delta J}{\\delta \\sigma} * \\frac{\\delta \\sigma}{\\delta z}*x_2\\\\\n",
    "\\frac{\\delta J}{\\delta \\sigma} * \\frac{\\delta \\sigma}{\\delta z}* 1\n",
    "\\end{bmatrix}$"
   ]
  },
  {
   "cell_type": "markdown",
   "id": "considerable-kidney",
   "metadata": {},
   "source": [
    "And we calculated the components of how a change in the linear function affects the activation function, and how the activation function affects the cost function in the previous lesson."
   ]
  },
  {
   "cell_type": "code",
   "execution_count": 163,
   "id": "compound-mumbai",
   "metadata": {},
   "outputs": [],
   "source": [
    "def deriv_sigma(z):\n",
    "    return torch.sigmoid(z)*(1 - torch.sigmoid(z))\n",
    "\n",
    "def delta_J_delta_sigma(y_hat, y):\n",
    "    return torch.sum(2*(y_hat - y))"
   ]
  },
  {
   "cell_type": "markdown",
   "id": "rough-cliff",
   "metadata": {},
   "source": [
    "So starting with our "
   ]
  },
  {
   "cell_type": "code",
   "execution_count": 210,
   "id": "existing-royalty",
   "metadata": {},
   "outputs": [],
   "source": [
    "x = torch.tensor([1., 2., 3.])\n",
    "y = torch.tensor(1.)\n",
    "\n",
    "w = torch.tensor([.5, .3, .1])\n",
    "\n",
    "b = torch.tensor(-1.)"
   ]
  },
  {
   "cell_type": "code",
   "execution_count": 211,
   "id": "tough-jimmy",
   "metadata": {},
   "outputs": [],
   "source": [
    "def linear_fn(w, x, b):\n",
    "    return x @ w + b \n",
    "\n",
    "def activation_fn(z):\n",
    "    return torch.sigmoid(z)"
   ]
  },
  {
   "cell_type": "code",
   "execution_count": 212,
   "id": "beginning-audit",
   "metadata": {},
   "outputs": [
    {
     "data": {
      "text/plain": [
       "tensor(0.5987)"
      ]
     },
     "execution_count": 212,
     "metadata": {},
     "output_type": "execute_result"
    }
   ],
   "source": [
    "z = linear_fn(w, x, b)\n",
    "\n",
    "y_hat = activation_fn(z)\n",
    "y_hat"
   ]
  },
  {
   "cell_type": "markdown",
   "id": "congressional-multiple",
   "metadata": {},
   "source": [
    "And then we can see that we should update by the following:"
   ]
  },
  {
   "cell_type": "code",
   "execution_count": 234,
   "id": "steady-singing",
   "metadata": {},
   "outputs": [
    {
     "data": {
      "text/plain": [
       "tensor([-0.1928, -0.3857, -0.5785], grad_fn=<MulBackward0>)"
      ]
     },
     "execution_count": 234,
     "metadata": {},
     "output_type": "execute_result"
    }
   ],
   "source": [
    "grad_J_w = delta_z_delta_w(x)*deriv_sigma(z)*delta_J_delta_sigma(y_hat, y)\n",
    "grad_J_w"
   ]
  },
  {
   "cell_type": "markdown",
   "id": "latin-accessory",
   "metadata": {},
   "source": [
    "So this tells us how we should update each of our terms: $w_1$, $w_2$, and $w_3$."
   ]
  },
  {
   "cell_type": "code",
   "execution_count": 236,
   "id": "toxic-christianity",
   "metadata": {},
   "outputs": [
    {
     "data": {
      "text/plain": [
       "tensor(-0.1928, grad_fn=<MulBackward0>)"
      ]
     },
     "execution_count": 236,
     "metadata": {},
     "output_type": "execute_result"
    }
   ],
   "source": [
    "grad_J_b = delta_z_delta_b()*deriv_sigma(z)*delta_J_delta_sigma(y_hat, y)\n",
    "grad_J_b"
   ]
  },
  {
   "cell_type": "markdown",
   "id": "unlike-advance",
   "metadata": {},
   "source": [
    "### Checking with Pytorch"
   ]
  },
  {
   "cell_type": "markdown",
   "id": "dirty-wagner",
   "metadata": {},
   "source": [
    "We can also get Pytorch to calculate this gradient with the `backward` method."
   ]
  },
  {
   "cell_type": "code",
   "execution_count": 228,
   "id": "verbal-portsmouth",
   "metadata": {},
   "outputs": [],
   "source": [
    "x = torch.tensor([1., 2., 3.])\n",
    "y = torch.tensor(1.)\n",
    "\n",
    "w = torch.tensor([.5, .3, .1], requires_grad = True)\n",
    "\n",
    "b = torch.tensor(-1., requires_grad = True)"
   ]
  },
  {
   "cell_type": "code",
   "execution_count": 229,
   "id": "drawn-debut",
   "metadata": {},
   "outputs": [],
   "source": [
    "z = linear_fn(w, x, b)\n",
    "y_hat = activation_fn(z)"
   ]
  },
  {
   "cell_type": "markdown",
   "id": "contemporary-thompson",
   "metadata": {},
   "source": [
    "And if we pass through:"
   ]
  },
  {
   "cell_type": "code",
   "execution_count": 230,
   "id": "israeli-daisy",
   "metadata": {},
   "outputs": [],
   "source": [
    "cost = torch.sum((y - y_hat)**2)"
   ]
  },
  {
   "cell_type": "code",
   "execution_count": 231,
   "id": "daily-publicity",
   "metadata": {},
   "outputs": [],
   "source": [
    "cost.backward()"
   ]
  },
  {
   "cell_type": "code",
   "execution_count": 232,
   "id": "boolean-casting",
   "metadata": {},
   "outputs": [
    {
     "data": {
      "text/plain": [
       "tensor([-0.1928, -0.3857, -0.5785])"
      ]
     },
     "execution_count": 232,
     "metadata": {},
     "output_type": "execute_result"
    }
   ],
   "source": [
    "w.grad"
   ]
  },
  {
   "cell_type": "code",
   "execution_count": 233,
   "id": "convenient-highway",
   "metadata": {},
   "outputs": [
    {
     "data": {
      "text/plain": [
       "tensor(-0.1928)"
      ]
     },
     "execution_count": 233,
     "metadata": {},
     "output_type": "execute_result"
    }
   ],
   "source": [
    "b.grad"
   ]
  },
  {
   "cell_type": "markdown",
   "id": "radical-equipment",
   "metadata": {},
   "source": [
    "So this is what occurs, we repeatedly calculate the gradient to see how to update each parameter.  If we call the `backward` function on the cost, like we did above, then Pytorch calculates how nudging our tensors affect the cost function.  From there, we just perform our gradient descent procedure like we did previously.  Repeatedly using the gradient to update our parameters.  Mathematically, we represent the set of our parameters as $\\theta$, and our gradient descent formula looks like the following: "
   ]
  },
  {
   "cell_type": "markdown",
   "id": "rubber-diploma",
   "metadata": {},
   "source": [
    "$$ \\theta = \\theta - \\eta \\frac{\\delta J}{\\delta \\theta}  $$"
   ]
  },
  {
   "cell_type": "markdown",
   "id": "cheap-natural",
   "metadata": {},
   "source": [
    "This just means that repeatedly update each parameter by the negative partial derivative with respect to that parameter, like we saw above, multiplied by a learning rate.  Or in code we perform this with the following:"
   ]
  },
  {
   "cell_type": "markdown",
   "id": "confused-committee",
   "metadata": {},
   "source": [
    "```python\n",
    "w = torch.tensor([.5, .3, .1])\n",
    "b = torch.tensor(-1.)\n",
    "\n",
    "eta = .00005\n",
    "\n",
    "for i in range(10):\n",
    "    # for each loop we first need to calculate the vals z and y_hat to pass into our derivative functions\n",
    "    z = linear_fn(w, x_vals, b)\n",
    "    y_hat = activation_fn(z)\n",
    "    \n",
    "    w = w - torch.mean(eta*delta_J_delta_sigma(y_hat, y_vals)*deriv_sigma(z)*delta_z_delta_w(x_vals))\n",
    "    b = b - torch.mean(eta*delta_J_delta_sigma(y_hat, x_vals)*deriv_sigma(z)*delta_z_delta_b())\n",
    "```"
   ]
  },
  {
   "cell_type": "markdown",
   "id": "sought-mediterranean",
   "metadata": {},
   "source": [
    "### Summary"
   ]
  },
  {
   "cell_type": "markdown",
   "id": "junior-dispatch",
   "metadata": {},
   "source": [
    "In this lesson, we learned that to take the gradient, means to take the partial derivative with respect to each term in the function.  In calculating the gradient, we started by calculating the gradient of the linear layer.  That is, we calculated the amount our linear function's output would change, as we nudged each parameter:\n",
    "\n",
    "For our function: \n",
    "\n",
    "$z = w_1x_1 + w_2x_2 + b$, the gradient is:\n",
    "\n",
    "$\\nabla z(w_1,w_2, b) = \\begin{bmatrix}\n",
    "\\frac{\\delta z}{\\delta w_1} \\\\\n",
    "\\frac{\\delta z}{\\delta w_2} \\\\\n",
    "  \\frac{\\delta z}{\\delta b} \n",
    "\\end{bmatrix} = \\begin{bmatrix}\n",
    "x_1 \\\\\n",
    "x_2 \\\\\n",
    "  1\n",
    "\\end{bmatrix}$"
   ]
  },
  {
   "cell_type": "markdown",
   "id": "radical-opening",
   "metadata": {},
   "source": [
    "So one way to represent the gradient is simply as the feature vector $x$ followed by a $1$ for the bias term."
   ]
  },
  {
   "cell_type": "markdown",
   "id": "advance-stylus",
   "metadata": {},
   "source": [
    "And we saw this in Pytorch:"
   ]
  },
  {
   "cell_type": "code",
   "execution_count": 241,
   "id": "stone-herald",
   "metadata": {},
   "outputs": [],
   "source": [
    "w = torch.tensor([.5, .3, .1], requires_grad = True)\n",
    "b = torch.tensor(-1., requires_grad = True)\n",
    "x = torch.tensor([1., 2., 3.])\n",
    "\n",
    "z = x @ w + b"
   ]
  },
  {
   "cell_type": "code",
   "execution_count": 243,
   "id": "electric-defeat",
   "metadata": {},
   "outputs": [],
   "source": [
    "z.backward()"
   ]
  },
  {
   "cell_type": "code",
   "execution_count": 244,
   "id": "occasional-atmosphere",
   "metadata": {},
   "outputs": [
    {
     "data": {
      "text/plain": [
       "(tensor([1., 2., 3.]), tensor(1.))"
      ]
     },
     "execution_count": 244,
     "metadata": {},
     "output_type": "execute_result"
    }
   ],
   "source": [
    "w.grad, b.grad"
   ]
  },
  {
   "cell_type": "markdown",
   "id": "irish-flight",
   "metadata": {},
   "source": [
    "And then to see how our cost function changes with a nudge in each parameter, then we still took the partial derivative with respect to each parameter, but this time also needed to apply the chain rule.  "
   ]
  },
  {
   "cell_type": "markdown",
   "id": "scientific-peninsula",
   "metadata": {},
   "source": [
    "$\\nabla J(w_1,w_2, b) = \\begin{bmatrix}\n",
    "\\frac{\\delta J}{\\delta \\sigma} * \\frac{\\delta \\sigma}{\\delta z} * \\frac{\\delta z}{\\delta w_1} \\\\\n",
    "\\frac{\\delta J}{\\delta \\sigma} * \\frac{\\delta \\sigma}{\\delta z} * \\frac{\\delta z}{\\delta w_2} \\\\\n",
    "\\frac{\\delta J}{\\delta \\sigma} * \\frac{\\delta \\sigma}{\\delta z} * \\frac{\\delta z}{\\delta b}\n",
    "\\end{bmatrix} = \\begin{bmatrix}\n",
    "\\frac{\\delta J}{\\delta \\sigma} * \\frac{\\delta \\sigma}{\\delta z}*x_1\\\\\n",
    "\\frac{\\delta J}{\\delta \\sigma} * \\frac{\\delta \\sigma}{\\delta z}*x_2\\\\\n",
    "\\frac{\\delta J}{\\delta \\sigma} * \\frac{\\delta \\sigma}{\\delta z}* 1\n",
    "\\end{bmatrix}$"
   ]
  },
  {
   "cell_type": "markdown",
   "id": "chief-mississippi",
   "metadata": {},
   "source": [
    "The derivatives $\\frac{\\delta J}{\\delta \\sigma}$ and $\\frac{\\delta \\sigma}{\\delta z}$ are exactly what we calculated in the previous lesson.  And so were able to calculate the gradient of our cost function by making use of the previously determined derivatives:"
   ]
  },
  {
   "cell_type": "code",
   "execution_count": 245,
   "id": "framed-monroe",
   "metadata": {},
   "outputs": [
    {
     "data": {
      "text/plain": [
       "tensor([-0.1928, -0.3857, -0.5785], grad_fn=<MulBackward0>)"
      ]
     },
     "execution_count": 245,
     "metadata": {},
     "output_type": "execute_result"
    }
   ],
   "source": [
    "grad_J_w = delta_z_delta_w(x)*deriv_sigma(z)*delta_J_delta_sigma(y_hat, y)\n",
    "grad_J_w"
   ]
  },
  {
   "cell_type": "markdown",
   "id": "partial-shark",
   "metadata": {},
   "source": [
    "And again, we saw the same results when we checked our wrk in Pytorch, by this time calling `backward` on our cost, and then calculating the gradient."
   ]
  },
  {
   "cell_type": "markdown",
   "id": "involved-interference",
   "metadata": {},
   "source": [
    "```python\n",
    "z = linear_fn(w, x, b)\n",
    "y_hat = activation_fn(z)\n",
    "cost = torch.sum((y - y_hat)**2)\n",
    "\n",
    "cost.backward()\n",
    "w.grad # tensor([-0.1928, -0.3857, -0.5785])\n",
    "```"
   ]
  }
 ],
 "metadata": {
  "kernelspec": {
   "display_name": "Python 3",
   "language": "python",
   "name": "python3"
  },
  "language_info": {
   "codemirror_mode": {
    "name": "ipython",
    "version": 3
   },
   "file_extension": ".py",
   "mimetype": "text/x-python",
   "name": "python",
   "nbconvert_exporter": "python",
   "pygments_lexer": "ipython3",
   "version": "3.8.6"
  }
 },
 "nbformat": 4,
 "nbformat_minor": 5
}
