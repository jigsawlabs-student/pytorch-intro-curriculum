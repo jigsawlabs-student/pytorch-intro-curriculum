{
 "cells": [
  {
   "cell_type": "markdown",
   "metadata": {},
   "source": [
    "Our perceptron is now updated to return both a prediction and a degree of confidence.  It returns: \n",
    "* a large negative value when confident there is no cancer, \n",
    "* a large positive value when confident there is cancer\n",
    "* And zero when it is unsure \n",
    "\n",
    "But it would be even better if it could indicate it's confidence in turns of probabilities.  Then, our perceptron would return: \n",
    "* A number close to 0, when there is no cancer\n",
    "* A number close to 1 when confident there is cancer\n",
    "* And .5 when unsure\n",
    "\n",
    "This now expresses confidence in a way that we can understand and use: as a likelihood that something will or will not occur.\n",
    "\n",
    "All we need to do now, is find a way to translate our large negative values to a number close to zero, the large positive values to a number close to 1, and a return value of 0 to the value .5.\n",
    "\n",
    "As it turns out, we have just the thing. "
   ]
  },
  {
   "cell_type": "code",
   "execution_count": null,
   "metadata": {},
   "outputs": [],
   "source": []
  }
 ],
 "metadata": {
  "kernelspec": {
   "display_name": "Python 3",
   "language": "python",
   "name": "python3"
  },
  "language_info": {
   "codemirror_mode": {
    "name": "ipython",
    "version": 3
   },
   "file_extension": ".py",
   "mimetype": "text/x-python",
   "name": "python",
   "nbconvert_exporter": "python",
   "pygments_lexer": "ipython3",
   "version": "3.7.4"
  }
 },
 "nbformat": 4,
 "nbformat_minor": 4
}
