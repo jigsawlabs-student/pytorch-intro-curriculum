{
 "cells": [
  {
   "cell_type": "markdown",
   "metadata": {},
   "source": [
    "# Introduction to Neurons"
   ]
  },
  {
   "cell_type": "markdown",
   "metadata": {},
   "source": [
    "### Introduction\n",
    "\n",
    "Why learn about neural networks?  Neural networks allow us to process information that, previously, was largely beyond the grasp of a computer.  For example, neural networks are used to identify images, summarize handwritten text and create transcripts of audio files.  So with neural networks, we can take things that we may not previously have thought of as data, like an image and text, and feed it into for a computer to interpret.\n",
    "\n",
    "In the next ten lessons, we'll learn how to build a neural network in Pytorch that can identify images of handwritten text. Then we'll take an even deeper look at neural networks, and train a neural network to identify different fashion items. \n",
    "\n",
    "As for this lesson, we'll start by seeing how the neurons of a neural network were inspired by those in the human brain."
   ]
  },
  {
   "cell_type": "markdown",
   "metadata": {},
   "source": [
    "Let's get started."
   ]
  },
  {
   "cell_type": "markdown",
   "metadata": {},
   "source": [
    "### From network to neuron"
   ]
  },
  {
   "cell_type": "markdown",
   "metadata": {},
   "source": [
    "Below is an image of part of a neural network from a human brain."
   ]
  },
  {
   "cell_type": "markdown",
   "metadata": {},
   "source": [
    "<img src=\"mit-neurons.jpg\" width=\"50%\">"
   ]
  },
  {
   "cell_type": "markdown",
   "metadata": {},
   "source": [
    "Each of the blue spheres above is the cell body of a different neuron, and the combination of different neurons lighting up is what forms the thoughts and decisions that humans make.  Notice in the image above that the neurons are *touching* each other, and we can imagine that the lighting up of one neuron influences whether or not a nearby neuron lights up.  "
   ]
  },
  {
   "cell_type": "markdown",
   "metadata": {},
   "source": [
    "Now it's difficult to understand how an entire neural network functions at once, so instead we'll start by focusing on a single neuron.  And we'll start with the *hypothesis function* of a single neuron."
   ]
  },
  {
   "cell_type": "markdown",
   "metadata": {},
   "source": [
    "### Understanding Neurons\n",
    "\n",
    "Ok, so now it's time to zoom in on a single neuron."
   ]
  },
  {
   "cell_type": "markdown",
   "metadata": {},
   "source": [
    "<img src=\"neuron-img.jpg\" width=\"30%\">"
   ]
  },
  {
   "cell_type": "markdown",
   "metadata": {},
   "source": [
    "The purplish circle in the center is the neuron's cell body.  And the neuron takes in various inputs via the squiggly lines to left - called dendrites.  Then, based on these inputs the neuron sends or does not send a signal via the axon at the top right.  "
   ]
  },
  {
   "cell_type": "markdown",
   "metadata": {},
   "source": [
    "Let's see this again through an artificial neuron."
   ]
  },
  {
   "cell_type": "markdown",
   "metadata": {},
   "source": [
    "<img src=\"./simple-neuron.png\" width=\"60%\" >"
   ]
  },
  {
   "cell_type": "markdown",
   "metadata": {},
   "source": [
    "So just like our real neuron, our artificial neuron takes in multiple inputs and has a single output.  For now, the neuron's output will be either a zero or a one -- to represent the neuron firing or not.  "
   ]
  },
  {
   "cell_type": "markdown",
   "metadata": {},
   "source": [
    "Now a single neuron can still be quite powerful.  For example, over the next couple of lessons, we'll build a neuron that can predict if a person has cancer by looking at different attributes of a patient's cells.  How would a single neuron do something like that?"
   ]
  },
  {
   "cell_type": "markdown",
   "metadata": {},
   "source": [
    "### Creating a neuron"
   ]
  },
  {
   "cell_type": "markdown",
   "metadata": {},
   "source": [
    "Well essentially our neuron takes in certain inputs like the size of a patient's cell (cell area), and the number of bumps on a particular cell (cell concavities) and uses these inputs to predict whether or not the cell is cancerous."
   ]
  },
  {
   "cell_type": "markdown",
   "metadata": {},
   "source": [
    "<img src=\"./neuron_cancer.png\" width=\"50%\">"
   ]
  },
  {
   "cell_type": "markdown",
   "metadata": {},
   "source": [
    "Ok, now let's define some terms."
   ]
  },
  {
   "cell_type": "markdown",
   "metadata": {},
   "source": [
    "We'll call the inputs that we consider our **features** -- so both `cell area` and `cell concavities` are **features**.  Notice that all of features are represented numerically. "
   ]
  },
  {
   "cell_type": "code",
   "execution_count": 4,
   "metadata": {},
   "outputs": [],
   "source": [
    "cell_area = 1\n",
    "cell_concavities = 2"
   ]
  },
  {
   "cell_type": "markdown",
   "metadata": {},
   "source": [
    "The neuron is trying to predict whether the or not each cell is cancerous.  We call what our machine learning model is trying to predict the **target**.  "
   ]
  },
  {
   "cell_type": "markdown",
   "metadata": {},
   "source": [
    "Our neuron will observe the features of each particular cell, and from those features try to predict whether the cell was cancerous.  And then it will assess it's prediction by seeing whether, in that example, there was in fact cancer. We call each example, here each potentially cancerous cell, an **observation**."
   ]
  },
  {
   "cell_type": "markdown",
   "metadata": {},
   "source": [
    "So, to recap, our machine learning model -- here a neuron -- will see a number of **observations**, where each observation contains both the features, and the actual *result* our model is trying to predict -- the **target**.  Ok, now let's see what this looks like in code.   "
   ]
  },
  {
   "cell_type": "markdown",
   "metadata": {},
   "source": [
    "### Neurons in Code"
   ]
  },
  {
   "cell_type": "markdown",
   "metadata": {},
   "source": [
    "So now, what does it mean to represent an observation in code?  Well remember that our observation just consists of our features -- here cell area and cell concavities -- and the target of whether or not it's cancerous.  "
   ]
  },
  {
   "cell_type": "code",
   "execution_count": 1,
   "metadata": {},
   "outputs": [],
   "source": [
    "cell_area = 1.5\n",
    "cell_concavities = 2\n",
    "is_cancerous = 1 # 1 means is cancerous, and 0 means is not"
   ]
  },
  {
   "cell_type": "markdown",
   "metadata": {},
   "source": [
    "Later on, we'll see that we can also just group a single observation's features into a list, like so:\n",
    "\n",
    "```python\n",
    "observation = [1.5, 2]\n",
    "is_cancerous = 1\n",
    "```"
   ]
  },
  {
   "cell_type": "markdown",
   "metadata": {},
   "source": [
    "Ok, so now that we saw how we can represent an observation, let's represent our neuron that predicts whether or not something is cancerous.  Essentially, all we'll do is add the two features together, plus add a third negative number.  If the sum of the three numbers is greater than 0, our neuron will fire, thus representing a prediction of cancer."
   ]
  },
  {
   "cell_type": "markdown",
   "metadata": {},
   "source": [
    "Here it is:"
   ]
  },
  {
   "cell_type": "code",
   "execution_count": 1,
   "metadata": {},
   "outputs": [],
   "source": [
    "def is_cancerous(cell_area, cell_concavities):\n",
    "    total = cell_area + cell_concavities - 4\n",
    "    return total"
   ]
  },
  {
   "cell_type": "code",
   "execution_count": 2,
   "metadata": {},
   "outputs": [
    {
     "data": {
      "text/plain": [
       "-1"
      ]
     },
     "execution_count": 2,
     "metadata": {},
     "output_type": "execute_result"
    }
   ],
   "source": [
    "is_cancerous(1, 2) # outputs a negative number, doesn't fire"
   ]
  },
  {
   "cell_type": "code",
   "execution_count": 3,
   "metadata": {},
   "outputs": [
    {
     "data": {
      "text/plain": [
       "2"
      ]
     },
     "execution_count": 3,
     "metadata": {},
     "output_type": "execute_result"
    }
   ],
   "source": [
    "is_cancerous(2, 4) # outputs a positive number, fires"
   ]
  },
  {
   "cell_type": "markdown",
   "metadata": {},
   "source": [
    "So in our function above, that last number, above $-4$, is called our **bias**.  The bias acts as a counterweight to the rest of the function, saying that the neuron will only predict cancer if `cell_area` plus `cell_concavities` is greater than 4."
   ]
  },
  {
   "cell_type": "markdown",
   "metadata": {},
   "source": [
    "Now, if we were to represent this function mathematically, it would look like the following."
   ]
  },
  {
   "cell_type": "markdown",
   "metadata": {},
   "source": [
    "> $z(x) = x_1 + x_2 + bias$"
   ]
  },
  {
   "cell_type": "markdown",
   "metadata": {},
   "source": [
    "> And, here again, is what $z(x)$ looks like in Python. \n",
    "\n",
    "```python\n",
    "def is_cancerous(cell_area, cell_concavities):\n",
    "    total = cell_area + cell_concavities - 4\n",
    "    return total\n",
    "```\n",
    "The $x_1$ and $x_2$ are our two features, like the cell area and cell concavities for each cell.  The bias is  $- 4$."
   ]
  },
  {
   "cell_type": "markdown",
   "metadata": {},
   "source": [
    "So what we just saw, $z(x)$, is represented by the `is_cancerous` function.  And the point of it, is that we can pass in the features of an observation, and the neuron gives us a prediction.  Whenever we pass features into a machine learning model, and we get back a prediction we call this a **hypothesis function**.  So we just saw our first hypothesis function for a neuron above.\n",
    "\n",
    "As we'll learn our hypothesis function for a neuron is a bit more complex than what we see above.  Above is just one component of a neuron -- and it's called our **linear function** or linear layer of a neuron.  When our *linear function* outputs a number greater than zero, our neuron fires."
   ]
  },
  {
   "cell_type": "markdown",
   "metadata": {},
   "source": [
    "> **In Summary**, our hypothesis function takes in features of an observation, and outputs a prediction.  We just saw the first component of a neuron's hypothesis function, the linear function.  The linear function is represented by the function $z(x) = x_1 + x_2 + bias$, where $x_1$ and $x_2$, are both features of an observation, like `cell_area` and `cell_concavities`, and our bias essentially acts as a counterweight.  Our neuron fires if the linear layer outputs a positive number. "
   ]
  },
  {
   "cell_type": "markdown",
   "metadata": {},
   "source": [
    "### Changing the Balance"
   ]
  },
  {
   "cell_type": "markdown",
   "metadata": {},
   "source": [
    "Now let's look at slightly updated version of our neuron."
   ]
  },
  {
   "cell_type": "code",
   "execution_count": 19,
   "metadata": {},
   "outputs": [],
   "source": [
    "def is_cancerous_weighted(cell_area, cell_concavities):\n",
    "    total = 2*cell_area + 1*cell_concavities - 4\n",
    "    return total"
   ]
  },
  {
   "cell_type": "markdown",
   "metadata": {},
   "source": [
    "In the function above, we added **weights** to each of our inputs.  That is, now an increase in cell area has the twice the impact as an increase in the number of concavities."
   ]
  },
  {
   "cell_type": "markdown",
   "metadata": {},
   "source": [
    "> $z(x) = 2x_1 + 1x_2 + b$"
   ]
  },
  {
   "cell_type": "markdown",
   "metadata": {},
   "source": [
    "> So above, the numbers `2` and `1` are the weights of our linear function, and $b$ is the bias.  "
   ]
  },
  {
   "cell_type": "markdown",
   "metadata": {},
   "source": [
    "And if we want to represent our linear function more generically we represent these weights as $w_1$ and $w_2$ (the w stands for weights).  So now our linear layer looks like the following."
   ]
  },
  {
   "cell_type": "markdown",
   "metadata": {},
   "source": [
    "> $z(x) = w_1x_1 + w_2x_2 + b$"
   ]
  },
  {
   "cell_type": "markdown",
   "metadata": {},
   "source": [
    "Now let's see how this $z(x) = 2x_1 + 1x_2 + b$ looks in Python again."
   ]
  },
  {
   "cell_type": "code",
   "execution_count": 5,
   "metadata": {},
   "outputs": [],
   "source": [
    "def is_cancerous_weighted(cell_area, cell_concavities):\n",
    "    total = 2*cell_area + 1*cell_concavities - 4\n",
    "    return total"
   ]
  },
  {
   "cell_type": "markdown",
   "metadata": {},
   "source": [
    "So notice the impact of this.  This time, if we dramatically increase the `cell_area` weight, then our neuron will be quite sensitive to a change in cell area, as opposed to the number of cell concavities."
   ]
  },
  {
   "cell_type": "code",
   "execution_count": 15,
   "metadata": {},
   "outputs": [],
   "source": [
    "def is_cancerous_weighted(cell_area, cell_concavities):\n",
    "    total = 10*cell_area + 1*cell_concavities - 4\n",
    "    return total"
   ]
  },
  {
   "cell_type": "code",
   "execution_count": 17,
   "metadata": {},
   "outputs": [
    {
     "data": {
      "text/plain": [
       "-1.0"
      ]
     },
     "execution_count": 17,
     "metadata": {},
     "output_type": "execute_result"
    }
   ],
   "source": [
    "is_cancerous_weighted(.1, 2)"
   ]
  },
  {
   "cell_type": "code",
   "execution_count": 18,
   "metadata": {},
   "outputs": [
    {
     "data": {
      "text/plain": [
       "2.0"
      ]
     },
     "execution_count": 18,
     "metadata": {},
     "output_type": "execute_result"
    }
   ],
   "source": [
    "is_cancerous_weighted(.4, 2)"
   ]
  },
  {
   "cell_type": "markdown",
   "metadata": {},
   "source": [
    "So these weights are quite important as they determine how different features impact a neuron's prediction.  As we'll see, our neural network will learn these weights by seeing different observations in the training process."
   ]
  },
  {
   "cell_type": "markdown",
   "metadata": {},
   "source": [
    "### Summary"
   ]
  },
  {
   "cell_type": "markdown",
   "metadata": {},
   "source": [
    "In this lesson, we learned were introduced to neurons, and saw that a neuron takes in different features of an observation like `cell_area` and `cell_concavities` to predict whether or not the cell is cancerous."
   ]
  },
  {
   "cell_type": "markdown",
   "metadata": {},
   "source": [
    "<img src=\"./neuron_cancer.png\" width=\"50%\">"
   ]
  },
  {
   "cell_type": "markdown",
   "metadata": {},
   "source": [
    "We saw that each example is called an **observation** and that an observation consists of **features** and a *target*, where features are the attribute of an observation that help us to predict the **target**. \n",
    "\n",
    "> Here, a cancer cell is an observation, with `cell_area` and `cell_concavities` being the features that help us predict the `target` of whether or not a cell is cancerous.  "
   ]
  },
  {
   "cell_type": "markdown",
   "metadata": {},
   "source": [
    "We described a **hypothesis function** as a function that takes in observations and outputs a prediction.  "
   ]
  },
  {
   "cell_type": "markdown",
   "metadata": {},
   "source": [
    "We then saw the first layer of a neuron -- the linear layer, or linear function.  Our linear layer is represented by the function:\n",
    "\n",
    "$z(x) = w_1x_1 + w_2x_2 + bias$\n",
    "\n",
    "And in the function above $x_1$ and $x_2$ are both features of an observation, like `cell_area` and `cell_concavities`, and our weights $w_1$ and $w_2$ determine the influence these features in our neuron firing.  For example, we saw how having a linear layer of $z(x) = 10*cell\\_area + 1*cell\\_concavities - 4$ made our neuron quite sensitive to changes in the cell area."
   ]
  },
  {
   "cell_type": "markdown",
   "metadata": {},
   "source": [
    "Ok, so we learned a lot.  But what does in any of this have to do with Pytorch?  It turns out a lot.  But we'll have to see this in the next lesson."
   ]
  },
  {
   "cell_type": "markdown",
   "metadata": {},
   "source": [
    "<center>\n",
    "<a href=\"https://www.jigsawlabs.io/free\" style=\"position: center\"><img src=\"./jigsaw-icon.png\" width=\"15%\" style=\"text-align: center\"></a>\n",
    "</center>"
   ]
  }
 ],
 "metadata": {
  "kernelspec": {
   "display_name": "Python 3",
   "language": "python",
   "name": "python3"
  },
  "language_info": {
   "codemirror_mode": {
    "name": "ipython",
    "version": 3
   },
   "file_extension": ".py",
   "mimetype": "text/x-python",
   "name": "python",
   "nbconvert_exporter": "python",
   "pygments_lexer": "ipython3",
   "version": "3.8.8"
  }
 },
 "nbformat": 4,
 "nbformat_minor": 4
}
