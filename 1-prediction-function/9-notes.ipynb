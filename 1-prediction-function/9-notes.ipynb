{
 "cells": [
  {
   "cell_type": "code",
   "execution_count": null,
   "id": "advised-departure",
   "metadata": {},
   "outputs": [],
   "source": []
  },
  {
   "cell_type": "code",
   "execution_count": null,
   "id": "unlikely-holmes",
   "metadata": {},
   "outputs": [],
   "source": []
  },
  {
   "cell_type": "markdown",
   "id": "million-integral",
   "metadata": {},
   "source": [
    "Now with Pytorch, we'll essentially collect the weights $w_1$ and $w_2$, into one tensor called $w$, and the corresponding features into another tensor called $x$."
   ]
  },
  {
   "cell_type": "code",
   "execution_count": 34,
   "id": "freelance-calcium",
   "metadata": {},
   "outputs": [],
   "source": []
  },
  {
   "cell_type": "markdown",
   "id": "incorporated-organ",
   "metadata": {},
   "source": [
    "$z(x) = 2*cell\\_area + 1*$"
   ]
  },
  {
   "cell_type": "code",
   "execution_count": null,
   "id": "increased-incident",
   "metadata": {},
   "outputs": [],
   "source": []
  },
  {
   "cell_type": "markdown",
   "id": "stretch-lawyer",
   "metadata": {},
   "source": [
    "And we represent the features of an observation as the matching components."
   ]
  },
  {
   "cell_type": "code",
   "execution_count": 28,
   "id": "psychological-nothing",
   "metadata": {},
   "outputs": [],
   "source": []
  },
  {
   "cell_type": "code",
   "execution_count": 32,
   "id": "raising-thong",
   "metadata": {},
   "outputs": [
    {
     "data": {
      "text/plain": [
       "tensor(8)"
      ]
     },
     "execution_count": 32,
     "metadata": {},
     "output_type": "execute_result"
    }
   ],
   "source": [
    "w.dot(x)"
   ]
  },
  {
   "cell_type": "code",
   "execution_count": null,
   "id": "fifteen-system",
   "metadata": {},
   "outputs": [],
   "source": [
    "And to get the same output "
   ]
  },
  {
   "cell_type": "markdown",
   "id": "promotional-priority",
   "metadata": {},
   "source": [
    "So the code above is equivalent to our linear function below."
   ]
  },
  {
   "cell_type": "markdown",
   "id": "continued-pointer",
   "metadata": {},
   "source": [
    "\\begin{equation}\n",
    "  h(x)=\\left\\{\n",
    "  \\begin{array}{@{}ll@{}}\n",
    "    cancerous, & \\text{if}\\ 2x_1 + 1x_2 - 4 > 0  \\\\\n",
    "    benign, & \\text{otherwise}\n",
    "  \\end{array}\\right.\n",
    "\\end{equation} "
   ]
  },
  {
   "cell_type": "code",
   "execution_count": null,
   "id": "fixed-audio",
   "metadata": {},
   "outputs": [],
   "source": [
    "And if we want to "
   ]
  },
  {
   "cell_type": "code",
   "execution_count": null,
   "id": "handmade-generic",
   "metadata": {},
   "outputs": [],
   "source": [
    "And if we want to see "
   ]
  },
  {
   "cell_type": "code",
   "execution_count": null,
   "id": "representative-spouse",
   "metadata": {},
   "outputs": [],
   "source": [
    "import torch"
   ]
  },
  {
   "cell_type": "markdown",
   "id": "multiple-bolivia",
   "metadata": {},
   "source": [
    "$z(x) = w_1x_1 + w_2x_2 + ... w_nx_n + bias$"
   ]
  },
  {
   "cell_type": "markdown",
   "id": "loose-telescope",
   "metadata": {},
   "source": [
    "<img src=\"./weighted-sum.png\" width=\"30%\">"
   ]
  },
  {
   "cell_type": "code",
   "execution_count": null,
   "id": "successful-scout",
   "metadata": {},
   "outputs": [],
   "source": [
    "### Back to "
   ]
  },
  {
   "cell_type": "markdown",
   "id": "excessive-minnesota",
   "metadata": {},
   "source": [
    "Let's call the $2x_1 + 1x_2 - 4$ the *linear component* or *linear function* of our hypothesis function, and it takes the following form:"
   ]
  },
  {
   "cell_type": "markdown",
   "id": "polish-democracy",
   "metadata": {},
   "source": [
    "So above, we name the linear component $z(x)$. And just as before, the function takes in the features  -- like the cell concavity and cell area."
   ]
  },
  {
   "cell_type": "code",
   "execution_count": 21,
   "id": "hispanic-institute",
   "metadata": {},
   "outputs": [],
   "source": [
    "def linear_fn(cell_area, cell_concavities):\n",
    "    return 2*cell_area + 1*cell_concavities - 4"
   ]
  },
  {
   "cell_type": "markdown",
   "id": "charged-lounge",
   "metadata": {},
   "source": [
    "If we break down this linear function further, we can think of in two parts: the weighted sum and the bias.  \n",
    "\n",
    "* The **weighted sum** is of the form $w_1x_1 + ... w_n*x_n$.\n",
    "* The **bias** acts as a counterbalance to the weighted sum"
   ]
  },
  {
   "cell_type": "markdown",
   "id": "optional-generic",
   "metadata": {},
   "source": [
    "Now these number's "
   ]
  },
  {
   "cell_type": "markdown",
   "id": "exact-framing",
   "metadata": {},
   "source": [
    "### Representing in "
   ]
  },
  {
   "cell_type": "markdown",
   "id": "digital-choir",
   "metadata": {},
   "source": [
    "Let's now begin to break down our hypothesis function for our neuron."
   ]
  },
  {
   "cell_type": "markdown",
   "id": "welsh-friendly",
   "metadata": {},
   "source": [
    "\\begin{equation}\n",
    "  h(x)=\\left\\{\n",
    "  \\begin{array}{@{}ll@{}}\n",
    "    1, & \\text{if}\\ 2x_1 + 1x_2 - 4 > 0  \\\\\n",
    "    0, & \\text{otherwise}\n",
    "  \\end{array}\\right.\n",
    "\\end{equation} "
   ]
  },
  {
   "cell_type": "markdown",
   "id": "searching-field",
   "metadata": {},
   "source": [
    "> Where $x_1$ is cell area and $x_2$ is cell_concavities."
   ]
  },
  {
   "cell_type": "markdown",
   "id": "informed-vitamin",
   "metadata": {},
   "source": [
    "The main component seems to be the function $2x_1 + 1x_2 - 4$.  "
   ]
  },
  {
   "cell_type": "markdown",
   "id": "polar-morgan",
   "metadata": {},
   "source": [
    "1. The linear component"
   ]
  },
  {
   "cell_type": "markdown",
   "id": "royal-columbus",
   "metadata": {},
   "source": [
    "2. The activation function"
   ]
  },
  {
   "cell_type": "markdown",
   "id": "lesser-theorem",
   "metadata": {},
   "source": [
    "Now let's go back to our hypothesis function for the neuron."
   ]
  },
  {
   "cell_type": "markdown",
   "id": "patent-booking",
   "metadata": {},
   "source": [
    "\\begin{equation}\n",
    "  h(x)=\\left\\{\n",
    "  \\begin{array}{@{}ll@{}}\n",
    "    1, & \\text{if}\\ w_1x_1 + w_2x_2 + ... w_nx_n + bias > 0 \\\\\n",
    "    0, & \\text{otherwise}\n",
    "  \\end{array}\\right.\n",
    "\\end{equation} "
   ]
  },
  {
   "cell_type": "markdown",
   "id": "artificial-gates",
   "metadata": {},
   "source": [
    "The $1$ or $0$ component of our hypothesis function is the *activation function*.  This is in charge of the output from the neuron.  In code, it's just the following:"
   ]
  },
  {
   "cell_type": "code",
   "execution_count": 26,
   "id": "tropical-consumption",
   "metadata": {},
   "outputs": [],
   "source": [
    "def activation(z):\n",
    "    if z > 0:\n",
    "        return 1\n",
    "    else:\n",
    "        return 0"
   ]
  },
  {
   "cell_type": "markdown",
   "id": "after-accused",
   "metadata": {},
   "source": [
    "So our activation function takes the output from the linear function, and if that output is greater than 0 it returns 1, and if not, it returns 0."
   ]
  },
  {
   "cell_type": "markdown",
   "id": "computational-chase",
   "metadata": {},
   "source": [
    "Let's use the two functions to predict whether a cell is cancerous or benign."
   ]
  },
  {
   "cell_type": "code",
   "execution_count": 32,
   "id": "indirect-worthy",
   "metadata": {},
   "outputs": [],
   "source": [
    "cell_area = 2\n",
    "cell_concavities = 4"
   ]
  },
  {
   "cell_type": "code",
   "execution_count": 33,
   "id": "wicked-shannon",
   "metadata": {},
   "outputs": [
    {
     "data": {
      "text/plain": [
       "4"
      ]
     },
     "execution_count": 33,
     "metadata": {},
     "output_type": "execute_result"
    }
   ],
   "source": [
    "linear_fn(cell_area, cell_concavities)"
   ]
  },
  {
   "cell_type": "code",
   "execution_count": 34,
   "id": "literary-council",
   "metadata": {},
   "outputs": [
    {
     "data": {
      "text/plain": [
       "1"
      ]
     },
     "execution_count": 34,
     "metadata": {},
     "output_type": "execute_result"
    }
   ],
   "source": [
    "z = linear_fn(1, 4)\n",
    "\n",
    "activation(z)"
   ]
  },
  {
   "cell_type": "markdown",
   "id": "determined-disposal",
   "metadata": {},
   "source": [
    "So because the linear component outputs a number greater than 0, our neuron predicts the cell is cancerous, that is the neuron fires."
   ]
  },
  {
   "cell_type": "markdown",
   "id": "extraordinary-attribute",
   "metadata": {},
   "source": [
    "### Summary"
   ]
  },
  {
   "cell_type": "markdown",
   "id": "resident-fabric",
   "metadata": {},
   "source": [
    "In this lesson, we saw the hypothesis function for a single neuron.  We saw that the our hypothesis function consists of two components, the linear component and an activation function.  \n",
    "\n",
    "1. Linear Component\n",
    "\n",
    "Part of the linear component is the weighted sum, where the neuron takes the features of an observation and assigns a corresponding weight to each feature.  The other part of the weighted sum is the bias term, which acts as a counterbalance to the weighted sum."
   ]
  },
  {
   "cell_type": "markdown",
   "id": "oriented-standing",
   "metadata": {},
   "source": [
    "<img src=\"./weighted-sum.png\" width=\"30%\">"
   ]
  },
  {
   "cell_type": "markdown",
   "id": "endless-drove",
   "metadata": {},
   "source": [
    "2. The activation function"
   ]
  },
  {
   "cell_type": "markdown",
   "id": "persistent-crossing",
   "metadata": {},
   "source": [
    "We feed the output fo the linear component into our activation function.  Where our activation function determines the output from our neuron.  Above, our activation function returns a 1 or a 0 based on whether the linear component is greater than 0.  And we coded it as the following:"
   ]
  },
  {
   "cell_type": "code",
   "execution_count": 25,
   "id": "intermediate-definition",
   "metadata": {},
   "outputs": [],
   "source": [
    "def activation(z):\n",
    "    if z > 0:\n",
    "        return 1\n",
    "    else:\n",
    "        return 0"
   ]
  },
  {
   "cell_type": "markdown",
   "id": "graphic-anger",
   "metadata": {},
   "source": [
    "3. The whole hypothesis function"
   ]
  },
  {
   "cell_type": "markdown",
   "id": "twenty-flash",
   "metadata": {},
   "source": [
    "The entire hypothesis function looks like the following:"
   ]
  },
  {
   "cell_type": "markdown",
   "id": "mechanical-corner",
   "metadata": {},
   "source": [
    "\\begin{equation}\n",
    "  h(x)=\\left\\{\n",
    "  \\begin{array}{@{}ll@{}}\n",
    "    1, & \\text{if}\\ w_1x_1 + w_2x_2 + bias > 0 \\\\\n",
    "    0, & \\text{otherwise}\n",
    "  \\end{array}\\right.\n",
    "\\end{equation} "
   ]
  },
  {
   "cell_type": "markdown",
   "id": "differential-flesh",
   "metadata": {},
   "source": [
    "Or in our diagram of an artificial neuron it looks like."
   ]
  },
  {
   "cell_type": "markdown",
   "id": "fatty-startup",
   "metadata": {},
   "source": [
    "<img src=\"./neuron-general-2.png\" width=\"50%\">"
   ]
  },
  {
   "cell_type": "markdown",
   "id": "included-simple",
   "metadata": {},
   "source": [
    "> Where $x_1$ and $x_2$ are the features of an observation"
   ]
  },
  {
   "cell_type": "markdown",
   "id": "unable-registrar",
   "metadata": {},
   "source": [
    "Or in code, we can write the hypothesis function as the following:"
   ]
  },
  {
   "cell_type": "code",
   "execution_count": 58,
   "id": "rocky-commerce",
   "metadata": {},
   "outputs": [],
   "source": [
    "def linear_fn(cell_area, cell_concavities):\n",
    "    return 2*cell_area + 1*cell_concavities - 4\n",
    "\n",
    "def activation(z):\n",
    "    if z > 0:\n",
    "        return 1\n",
    "    else:\n",
    "        return 0"
   ]
  },
  {
   "cell_type": "code",
   "execution_count": 36,
   "id": "signed-principle",
   "metadata": {},
   "outputs": [
    {
     "data": {
      "text/plain": [
       "1"
      ]
     },
     "execution_count": 36,
     "metadata": {},
     "output_type": "execute_result"
    }
   ],
   "source": [
    "cell_area = 2\n",
    "cell_concavities = 4\n",
    "\n",
    "activation(linear_fn(cell_area, cell_concavities))"
   ]
  }
 ],
 "metadata": {
  "kernelspec": {
   "display_name": "Python 3",
   "language": "python",
   "name": "python3"
  },
  "language_info": {
   "codemirror_mode": {
    "name": "ipython",
    "version": 3
   },
   "file_extension": ".py",
   "mimetype": "text/x-python",
   "name": "python",
   "nbconvert_exporter": "python",
   "pygments_lexer": "ipython3",
   "version": "3.8.6"
  }
 },
 "nbformat": 4,
 "nbformat_minor": 5
}
