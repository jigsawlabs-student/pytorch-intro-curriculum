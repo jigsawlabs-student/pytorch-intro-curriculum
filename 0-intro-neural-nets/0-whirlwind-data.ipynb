{
 "cells": [
  {
   "cell_type": "markdown",
   "metadata": {},
   "source": [
    "# Introduction to Neural Networks"
   ]
  },
  {
   "cell_type": "markdown",
   "metadata": {},
   "source": [
    "### Introduction"
   ]
  },
  {
   "cell_type": "markdown",
   "metadata": {},
   "source": [
    "Why learn about neural networks?  Neural networks allow us to process information that previously was considered not interpretable by a computer.  For example, they are used to label images, summarize written text and create transcripts of audio files.  So with neural networks, we can take things that we may not previously have thought of as data, and feed it into for a computer to interpret.\n",
    "\n",
    "Over the next two lessons, we'll get a better sense of what neural network can do by working with one.  Then,  we'll go deeper into this same content, breaking down the magic to see how a neural network works, some of the mathematics behind it, and how it relates to the processes that occur with our own brains."
   ]
  },
  {
   "cell_type": "markdown",
   "metadata": {},
   "source": [
    "### Our first set of data"
   ]
  },
  {
   "cell_type": "markdown",
   "metadata": {},
   "source": [
    "In this whirlwind tour, we'll use a neural network to classify different handwritten digits -- the numbers 0 through 9.  Ok, so the easiest way to get these digits is to use a library called keras."
   ]
  },
  {
   "cell_type": "markdown",
   "metadata": {},
   "source": [
    "> Don't worry, we're still learning pytorch.  We'll just use keras for downloading our data, as it's a bit easier."
   ]
  },
  {
   "cell_type": "markdown",
   "metadata": {},
   "source": [
    "Let's see how easy it is to load some data with `keras`.  Simply press `shift + return` on the line of code below, and keras will download a set of images and their corresponding labels for us."
   ]
  },
  {
   "cell_type": "code",
   "execution_count": 1,
   "metadata": {},
   "outputs": [],
   "source": [
    "import keras\n",
    "\n",
    "(X_train, y_train), (X_test, y_test) = keras.datasets.mnist.load_data()"
   ]
  },
  {
   "cell_type": "markdown",
   "metadata": {},
   "source": [
    "So we just downloaded our handwritten digits dataset.  And we assigned it's components to `X_train` `y_train`, `X_test`, `y_test`.  We'll learn about those different components later on, but for now let's focus on what we assigned to the `X_train` variable.  \n",
    "\n",
    "The `X_train` variable points to a list of pictures of our digits.  Let's see that.  We can select the first image from our list with `X_train[0]`, and then plot it with the following:"
   ]
  },
  {
   "cell_type": "code",
   "execution_count": 19,
   "metadata": {},
   "outputs": [
    {
     "data": {
      "text/plain": [
       "<matplotlib.image.AxesImage at 0x1659e4e50>"
      ]
     },
     "execution_count": 19,
     "metadata": {},
     "output_type": "execute_result"
    },
    {
     "data": {
      "image/png": "[encoded data removed]",
      "text/plain": [
       "<Figure size 432x288 with 1 Axes>"
      ]
     },
     "metadata": {
      "needs_background": "light"
     },
     "output_type": "display_data"
    }
   ],
   "source": [
    "import matplotlib.pyplot as plt\n",
    "\n",
    "plt.imshow(X_train[0])"
   ]
  },
  {
   "cell_type": "markdown",
   "metadata": {},
   "source": [
    "> And if you want to see the second image we can simply swap out the number `0` inside of the brackets and replace it with the number `1`, and then press `shift + return` again. "
   ]
  },
  {
   "cell_type": "markdown",
   "metadata": {},
   "source": [
    "Ok, so we saw that our first item is a picture of the digit 5, and that, overall, `X_train` simply contains a list of different digits.  We'll want our neural network to be able to identify each of these images.  "
   ]
  },
  {
   "cell_type": "markdown",
   "metadata": {},
   "source": [
    "### How neural networks use our data"
   ]
  },
  {
   "cell_type": "markdown",
   "metadata": {},
   "source": [
    "So how will our neural network do that?  Well essentially, we'll show our neural network a bunch of different images of the digits, and we'll also show it the answers."
   ]
  },
  {
   "cell_type": "markdown",
   "metadata": {},
   "source": [
    "> For example, here are the first three images."
   ]
  },
  {
   "cell_type": "code",
   "execution_count": 17,
   "metadata": {},
   "outputs": [
    {
     "data": {
      "image/png": "[encoded data removed]",
      "text/plain": [
       "<Figure size 432x144 with 3 Axes>"
      ]
     },
     "metadata": {
      "needs_background": "light"
     },
     "output_type": "display_data"
    }
   ],
   "source": [
    "_, axes = plt.subplots(nrows=1, ncols=3, figsize=(6, 2))\n",
    "for ax, image, label in zip(axes, X_train, y_train):\n",
    "    ax.set_axis_off()\n",
    "    ax.imshow(image, cmap=plt.cm.gray_r, interpolation='nearest')"
   ]
  },
  {
   "cell_type": "markdown",
   "metadata": {},
   "source": [
    "And the corresponding answers are located in the variable `y_train`."
   ]
  },
  {
   "cell_type": "code",
   "execution_count": 18,
   "metadata": {},
   "outputs": [
    {
     "data": {
      "text/plain": [
       "array([5, 0, 4], dtype=uint8)"
      ]
     },
     "execution_count": 18,
     "metadata": {},
     "output_type": "execute_result"
    }
   ],
   "source": [
    "y_train[:3]"
   ]
  },
  {
   "cell_type": "markdown",
   "metadata": {},
   "source": [
    "So we'll show our neural network the picture, have the neural network guess the correct answer, and then show it the correct answer -- kind of like teaching a child a vocabulary by showing him different flashcards.  This is called **training**.\n",
    "\n",
    "> When we feed our neural network input data, have it guess the answer, and then show it the answer so that can update the way it guessees, this is called **training** our neural network.  The set of images is our **input data**, each *guess*  is called a **prediction** and the corresponding set of answers is the **labels**.\n",
    "\n",
    "So above, we saw the input data and the labels, and we'll get into how the neural network makes predictions, and how we update those predictions in the next lesson."
   ]
  },
  {
   "cell_type": "markdown",
   "metadata": {},
   "source": [
    "### Is everything just a number?"
   ]
  },
  {
   "cell_type": "markdown",
   "metadata": {},
   "source": [
    "Ok, there's one last thing to clear up about our data.  We saw that `y_train`, our labels, is just a list of numbers.  But what about `X_train`?  In other words, how do we represent a picture, like those we saw of hour handwritten digits, in Python.  Well it turns out that each item in `X_train` is a grid of numbers -- one number for each pixel in the picture.  Let's take a look. "
   ]
  },
  {
   "cell_type": "markdown",
   "metadata": {},
   "source": [
    "> Uncomment the line below (by removing the `#` symbol) and pressing `shift + return`, then hide all of those numbers by adding back in the `#` in front of our code, and pressing `shift + return`."
   ]
  },
  {
   "cell_type": "code",
   "execution_count": 2,
   "metadata": {},
   "outputs": [],
   "source": [
    "# x_train[0]"
   ]
  },
  {
   "cell_type": "markdown",
   "metadata": {},
   "source": [
    "The zeros essentially represent the black space around the edge of the frame, and then we have different grayscale numbers for the pixels representing the drawing.\n",
    "\n",
    "> This is how all black and white pictures are represented digitally."
   ]
  },
  {
   "cell_type": "markdown",
   "metadata": {},
   "source": [
    "So we can see that when we say `X_train` represents a list of pictures, and that each picture is really a grid of numbers where each number represents the grayscale value of the corresponding pixel.  So this is what we'll feed into our neural network -- a bunch of grids of numbers, and the corresponding labels.  By feeding our neural network this data, it may then be able to identify different pictures of articles of clothing -- even those that it never saw before.  Of course, we haven't yet seen our neural network in action -- but we'll get to this in the next lesson."
   ]
  },
  {
   "cell_type": "markdown",
   "metadata": {},
   "source": [
    "### Summary"
   ]
  },
  {
   "cell_type": "markdown",
   "metadata": {},
   "source": [
    "In this lesson, we saw an example of how we can use a neural network, by using a neural network to identify different images.  \n",
    "\n",
    "We downloaded and examined our input data and the corresponding labels.  We saw that our labels, stored as `y_train` is just a list of numbers, where each number corresponds to a different number.  And we saw that our `X_train` variable points to a list of images, where each image is a grid full of numbers and where each number in that grid represents the grayscale value of the corresponding pixel.  In the next lesson, we'll  go deeper into *training* our neural network, where we show the neural network the picture, have it predict the answer, and then update the neural network so that it improves those predictions. "
   ]
  },
  {
   "cell_type": "markdown",
   "metadata": {},
   "source": [
    "### Resources\n",
    "\n",
    "[Colab Deep Learning](https://colab.research.google.com/github/margaretmz/deep-learning/blob/master/fashion_mnist_keras.ipynb#scrollTo=d44TznbgZZgm)"
   ]
  }
 ],
 "metadata": {
  "kernelspec": {
   "display_name": "Python 3",
   "language": "python",
   "name": "python3"
  },
  "language_info": {
   "codemirror_mode": {
    "name": "ipython",
    "version": 3
   },
   "file_extension": ".py",
   "mimetype": "text/x-python",
   "name": "python",
   "nbconvert_exporter": "python",
   "pygments_lexer": "ipython3",
   "version": "3.8.6"
  }
 },
 "nbformat": 4,
 "nbformat_minor": 4
}
