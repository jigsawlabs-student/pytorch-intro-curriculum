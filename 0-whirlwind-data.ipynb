{
 "cells": [
  {
   "cell_type": "markdown",
   "metadata": {},
   "source": [
    "# Introduction to Neural Networks"
   ]
  },
  {
   "cell_type": "markdown",
   "metadata": {},
   "source": [
    "### Introduction"
   ]
  },
  {
   "cell_type": "markdown",
   "metadata": {},
   "source": [
    "Why learn about neural networks?  Neural networks allow us to process information that previously was considered not interpretable by a computer.  For example, they are used to label images, summarize written text and create transcripts of audio files.  So with neural networks, we can take things that we may not previously have thought of as data, and feed it into for a computer to interpret.\n",
    "\n",
    "Over the next two lessons, we'll get a better sense of what neural network can do by working with one.  Then,  we'll go deeper into this same content, breaking down the magic to see how a neural network works, some of the mathematics behind it, and how it relates to the processes that occur with our own brains."
   ]
  },
  {
   "cell_type": "markdown",
   "metadata": {},
   "source": [
    "### Our first set of data"
   ]
  },
  {
   "cell_type": "markdown",
   "metadata": {},
   "source": [
    "In this whirlwind tour, we'll use a neural network to classify different photos of clothing -- like a hat, a t-shirt, or a pair of pants.  The easiest way to get these photos is to use a library called keras."
   ]
  },
  {
   "cell_type": "markdown",
   "metadata": {},
   "source": [
    "> Don't worry, we're still learning pytorch.  We'll just use keras for downloading our data, as it's a bit easier."
   ]
  },
  {
   "cell_type": "markdown",
   "metadata": {},
   "source": [
    "Let's see how easy it is to load some data with `keras`.  Simply press `shift + return` on the line of code below, and keras will download a set of images and their corresponding labels for us."
   ]
  },
  {
   "cell_type": "code",
   "execution_count": 3,
   "metadata": {},
   "outputs": [],
   "source": [
    "import keras\n",
    "\n",
    "(X_train, y_train), (X_test, y_test) = keras.datasets.fashion_mnist.load_data()"
   ]
  },
  {
   "cell_type": "markdown",
   "metadata": {},
   "source": [
    "So we just downloaded our fashion dataset, and assigned it's components to `X_train` `y_train`, `X_test`, `y_test`.  We'll learn about those different components later on, but for now let's focus on what we assigned to the `X_train` variable.  \n",
    "\n",
    "The `X_train` variable points to a list of pictures.  Let's see that.  We can select the first image from our list with `X_train[0]`, and then plot it with the following:"
   ]
  },
  {
   "cell_type": "code",
   "execution_count": 13,
   "metadata": {},
   "outputs": [
    {
     "data": {
      "text/plain": [
       "<matplotlib.image.AxesImage at 0x10f2e46d0>"
      ]
     },
     "execution_count": 13,
     "metadata": {},
     "output_type": "execute_result"
    },
    {
     "data": {
      "image/png": "[encoded data removed]",
      "text/plain": [
       "<Figure size 432x288 with 1 Axes>"
      ]
     },
     "metadata": {
      "needs_background": "light"
     },
     "output_type": "display_data"
    }
   ],
   "source": [
    "import matplotlib.pyplot as plt\n",
    "\n",
    "plt.imshow(x_train[0])"
   ]
  },
  {
   "cell_type": "markdown",
   "metadata": {},
   "source": [
    "> And if you want to see the second image we can simply swap out the number `0` inside of the brackets and replace it with the number `1`, and then press `shift + return` again. "
   ]
  },
  {
   "cell_type": "markdown",
   "metadata": {},
   "source": [
    "Ok, so we saw that our first item is a picture of a very fashionable boot, and that, overall, `X_train` simply contains a list of different fashion images.  We'll want our neural network to be able to identify each of these images as a boot, a T-shirt, and so on."
   ]
  },
  {
   "cell_type": "markdown",
   "metadata": {},
   "source": [
    "### How neural networks use our data"
   ]
  },
  {
   "cell_type": "markdown",
   "metadata": {},
   "source": [
    "So how will our neural network do that?  Well essentially, we'll show our neural network a bunch of different images, some being boots, and some being T-shirts, or jeans, and we'll also show it the answers.  Kind of like teaching a child a vocabulary by showing him flashcards of different images and the corresponding word.  \n",
    "\n",
    "And at first, we generally show our neural network -- or any machine learning model -- both our input data (like a picture) *and* then answers -- that is, the corresponding word associated with these pictures.  After seeing a number large set of input data and the corresponding labels, our neural network begin find procedures for making it's own predictions as to what these pictures represent.  \n",
    "\n",
    "When we feed our neural network input data and the corresponding answers so that it can make predictions later on, this is called **training** our neural network.  Each guess from the neural network is called a **prediction**.  We can call the set of images our input data, and the corresponding answers identifying each image are our **labels**.   \n",
    "\n",
    "> So our task is to first train a neural network by passing it input data and the corresponding labels.  Then after training the neural network, we will be able to receive new input data -- that is, new pictures of fashion items -- and predict the appropriate label."
   ]
  },
  {
   "cell_type": "markdown",
   "metadata": {},
   "source": [
    "### Seeing our labels"
   ]
  },
  {
   "cell_type": "markdown",
   "metadata": {},
   "source": [
    "Now so far, we have seen that `X_train` represents our input data, that is a list of pictures.  Now let's see what `y_train` is."
   ]
  },
  {
   "cell_type": "markdown",
   "metadata": {},
   "source": [
    "> We select the first three elements of `y_train`."
   ]
  },
  {
   "cell_type": "code",
   "execution_count": 10,
   "metadata": {},
   "outputs": [
    {
     "data": {
      "text/plain": [
       "array([9, 0, 0], dtype=uint8)"
      ]
     },
     "execution_count": 10,
     "metadata": {},
     "output_type": "execute_result"
    }
   ],
   "source": [
    "y_train[:3]"
   ]
  },
  {
   "cell_type": "markdown",
   "metadata": {},
   "source": [
    "So `y_train` really just contains a list of numbers.  Where each number corresponds to a different item of clothing.  Here's the corresponding list."
   ]
  },
  {
   "cell_type": "code",
   "execution_count": 11,
   "metadata": {},
   "outputs": [],
   "source": [
    "fashion_mnist_labels = [\"T-shirt/top\",  # index 0\n",
    "                        \"Trouser\",      # index 1\n",
    "                        \"Pullover\",     # index 2 \n",
    "                        \"Dress\",        # index 3 \n",
    "                        \"Coat\",         # index 4\n",
    "                        \"Sandal\",       # index 5\n",
    "                        \"Shirt\",        # index 6 \n",
    "                        \"Sneaker\",      # index 7 \n",
    "                        \"Bag\",          # index 8 \n",
    "                        \"Ankle boot\"]   # index 9"
   ]
  },
  {
   "cell_type": "markdown",
   "metadata": {},
   "source": [
    "So far it looks like everything lines up.  We saw a picture of a boot for our first image, and the first label is index 9, which corresponds to a boot.  If we look at the second or third images, we would see that they are in fact tops."
   ]
  },
  {
   "cell_type": "markdown",
   "metadata": {},
   "source": [
    "### Is everything just a number?"
   ]
  },
  {
   "cell_type": "markdown",
   "metadata": {},
   "source": [
    "Ok, there's one last thing to clear up about our data.  We saw that `y_train` is just a list of numbers.  But what about `X_train`?  How do we represent a picture in Python.  Well it turns out that each item in `X_train` is a grid of numbers -- one number for each pixel in the picture.  Let's take a look. "
   ]
  },
  {
   "cell_type": "markdown",
   "metadata": {},
   "source": [
    "> Uncomment the line below (by removing the `#` symbol) and pressing `shift + return`, then hide all of those numbers by adding back in the `#` in front of our code, and pressing `shift + return`."
   ]
  },
  {
   "cell_type": "code",
   "execution_count": 2,
   "metadata": {},
   "outputs": [],
   "source": [
    "# x_train[0]"
   ]
  },
  {
   "cell_type": "markdown",
   "metadata": {},
   "source": [
    "The zeros essentially represent the black space around the edge of the frame, and then we have different grayscale numbers for the pixels in the article of clothing.\n",
    "\n",
    "> This is how all black and white pictures are represented digitally."
   ]
  },
  {
   "cell_type": "markdown",
   "metadata": {},
   "source": [
    "So we can see that when we say `X_train` represents a list of pictures, and that each picture is really a grid of numbers where each number represents the grayscale value of the corresponding pixel.  So this is what we'll feed into our neural network -- a bunch of grids of numbers, and the corresponding labels.  By feeding our neural network this data, it may then be able to identify different pictures of articles of clothing -- even those that it never saw before.  Of course, we haven't yet seen our neural network in action -- but we'll get to this in the next lesson."
   ]
  },
  {
   "cell_type": "markdown",
   "metadata": {},
   "source": [
    "### Summary"
   ]
  },
  {
   "cell_type": "markdown",
   "metadata": {},
   "source": [
    "In this lesson, we saw an example of how we can use a neural network, by using a neural network to identify different images.  We learned that we can do this by feeding our neural network both the images, and the corresponding labels that identify each image.  This process is called *training* our neural network.  Hopefully by passing through enough input data and corresponding labels, our neural network will identify how to predict the label of different items -- even those that it never saw before.\n",
    "\n",
    "In this lesson, we took a look at our input data and the corresponding labels.  We saw that our labels, stored as `y_train` is just a list of numbers, where each number corresponds to a different number.  And we saw that our `X_train` variable points to a list of images, where each image is a grid full of numbers and where each number in that grid represents the grayscale value of the corresponding pixel.  In the next lesson, we'll  create our neural network and see how it can work with this data. "
   ]
  },
  {
   "cell_type": "markdown",
   "metadata": {},
   "source": [
    "### Resources\n",
    "\n",
    "[Colab Deeep Learning](https://colab.research.google.com/github/margaretmz/deep-learning/blob/master/fashion_mnist_keras.ipynb#scrollTo=d44TznbgZZgm)"
   ]
  }
 ],
 "metadata": {
  "kernelspec": {
   "display_name": "Python 3",
   "language": "python",
   "name": "python3"
  },
  "language_info": {
   "codemirror_mode": {
    "name": "ipython",
    "version": 3
   },
   "file_extension": ".py",
   "mimetype": "text/x-python",
   "name": "python",
   "nbconvert_exporter": "python",
   "pygments_lexer": "ipython3",
   "version": "3.8.6"
  }
 },
 "nbformat": 4,
 "nbformat_minor": 4
}
