{
 "cells": [
  {
   "cell_type": "markdown",
   "metadata": {},
   "source": [
    "# BackPropagation"
   ]
  },
  {
   "cell_type": "markdown",
   "metadata": {},
   "source": [
    "### Loading Data"
   ]
  },
  {
   "cell_type": "code",
   "execution_count": 56,
   "metadata": {},
   "outputs": [],
   "source": [
    "import matplotlib.pyplot as plt\n",
    "import matplotlib\n",
    "import numpy as np\n",
    "# Display plots inline and change default figure size\n",
    "%matplotlib inline\n",
    "matplotlib.rcParams['figure.figsize'] = (10.0, 8.0)\n",
    "\n",
    "from sklearn.datasets import make_moons\n",
    "\n",
    "np.random.seed(0)\n",
    "X, y = make_moons(200, noise=0.20)"
   ]
  },
  {
   "cell_type": "code",
   "execution_count": 57,
   "metadata": {},
   "outputs": [],
   "source": [
    "np.random.seed(0)\n",
    "X, y = make_moons(200, noise=0.20)"
   ]
  },
  {
   "cell_type": "markdown",
   "metadata": {},
   "source": [
    "### Hypothesis Function"
   ]
  },
  {
   "cell_type": "markdown",
   "metadata": {},
   "source": [
    "$$\n",
    "\\begin{aligned}\n",
    "z_1 & = xW_1 + b_1 \\\\\n",
    "a_1 & = sigmoid(z_1) \\\\\n",
    "z_2 & = a_1W_2 + b_2 \\\\\n",
    "a_2 & = \\hat{y} = \\mathrm{softmax}(z_2)\n",
    "\\end{aligned}\n",
    "$$\n",
    "\n",
    "$softmax(ll_2(\\sigma(ll_1(X))))$"
   ]
  },
  {
   "cell_type": "code",
   "execution_count": 3,
   "metadata": {},
   "outputs": [],
   "source": [
    "import numpy as np\n",
    "W_1 = np.random.randn(2,3)\n",
    "b_1 = np.random.randn(3)\n",
    "W_2 = np.random.randn(3, 2)\n",
    "b_2 = np.random.randn(2)"
   ]
  },
  {
   "cell_type": "code",
   "execution_count": 4,
   "metadata": {},
   "outputs": [],
   "source": [
    "num_examples = len(X) # training set size\n",
    "nn_features = X.shape[1] # input layer dimensionality\n",
    "nn_input_dim = 2\n",
    "nn_output_dim = 2 # output layer dimensionality\n",
    "n_neurons = 3"
   ]
  },
  {
   "cell_type": "code",
   "execution_count": 6,
   "metadata": {},
   "outputs": [],
   "source": [
    "def feed_forward(X):\n",
    "    ll1 = (X@W_1 + b_1)\n",
    "    L1 = sigmoid(ll1)\n",
    "    ll2 = (L1@W_2 + b_2)\n",
    "    y_hats = softmax(ll2)\n",
    "    return y_hats"
   ]
  },
  {
   "cell_type": "markdown",
   "metadata": {},
   "source": [
    "### Calculate Loss"
   ]
  },
  {
   "cell_type": "code",
   "execution_count": 7,
   "metadata": {},
   "outputs": [],
   "source": [
    "def scalar_to_index(val, num_options = 2):\n",
    "    y_ar = [0]*num_options\n",
    "    y_ar[val] = 1\n",
    "    return y_ar"
   ]
  },
  {
   "cell_type": "code",
   "execution_count": 8,
   "metadata": {},
   "outputs": [],
   "source": [
    "def calculate_new_loss(y, Y_hat):\n",
    "    Y = np.stack([scalar_to_index(y_val) for y_val in y])\n",
    "    total_error = ((Y - Y_hat)**2).sum()\n",
    "    return total_error"
   ]
  },
  {
   "cell_type": "markdown",
   "metadata": {},
   "source": [
    "### Moving to Gradients"
   ]
  },
  {
   "cell_type": "markdown",
   "metadata": {},
   "source": [
    "$$\n",
    "\\begin{aligned}\n",
    "L_1 & = xW_1 + b_1 \\\\\n",
    "a_1 & = sigmoid(z_1) \\\\\n",
    "L_2 & = a_1W_2 + b_2 \\\\\n",
    "RSS & = (\\hat{y} - L_2)^2 \n",
    "\\end{aligned}\n",
    "$$\n",
    "\n",
    "$RSS(L_2(\\sigma(L_1(X))))$"
   ]
  },
  {
   "cell_type": "markdown",
   "metadata": {},
   "source": [
    "### Now we implement"
   ]
  },
  {
   "cell_type": "markdown",
   "metadata": {},
   "source": [
    "1. RSS "
   ]
  },
  {
   "cell_type": "markdown",
   "metadata": {},
   "source": [
    "$\\frac{dL}{d\\hat{y}} = 2(\\hat{y} - y)$"
   ]
  },
  {
   "cell_type": "markdown",
   "metadata": {},
   "source": [
    "2. Linear layer\n",
    "\n",
    "$Y = xW_1 + b_1$\n",
    "\n",
    "$\\frac{\\delta L}{\\delta X} = \\frac{\\delta L}{\\delta Y}W^T $\n",
    "\n",
    "$\\frac{\\delta L}{\\delta W} = X^T\\frac{\\delta L}{\\delta Y} $\n",
    "\n",
    "$\\frac{\\delta L}{\\delta b} = \\frac{\\delta L}{\\delta Y} $\n"
   ]
  },
  {
   "cell_type": "markdown",
   "metadata": {},
   "source": [
    "3. Sigmoid\n",
    "\n",
    "* $g(x) = \\sigma(x)$\n",
    "\n",
    "* $\\frac{\\delta L}{\\delta x}= \\sigma(x)*(1 - \\sigma(x)) *\\frac{dL}{dA}$"
   ]
  },
  {
   "cell_type": "code",
   "execution_count": 164,
   "metadata": {},
   "outputs": [],
   "source": [
    "def backwards(L1, a1, W2, Y, Y_hat, X):\n",
    "# grad loss\n",
    "    # 2(y_ - y)\n",
    "    dloss = (Y_hat - Y)\n",
    "# grad L2 = A1W2 + b2\n",
    "\n",
    "    #dL/dX2 =  dl/dY * W.T\n",
    "    dX2 = dloss.dot(W2.T) \n",
    "    #dL/dW2 =  X.T * dl/dY \n",
    "    dW2 = (a1.T).dot(dloss)\n",
    "    # dL/db2 = [1]  * dl/dY\n",
    "    db2 = np.sum(dloss, axis=0, keepdims=True)\n",
    "\n",
    "# grad sigma            \n",
    "    # dL/dsigma = sig(L1)(1 - sig(L1))*dX2 \n",
    "    d_sigma = sigma(L1)*(1 - sigma(L1))*dX2\n",
    "    \n",
    "    \n",
    "    \n",
    "# grad L1 = a1W2 + b2  \n",
    "    # dL/dW1 = dL1/dW1 * dsig/dL1\n",
    "    dW1 = np.dot(X.T, d_sigma)\n",
    "    \n",
    "    # dL/db1 = dL1/db1 * dsig/dL1\n",
    "    db1 = np.sum(d_sigma, axis=0)\n",
    "    \n",
    "    return (dW1, db1, dW2, db2)"
   ]
  },
  {
   "cell_type": "code",
   "execution_count": 165,
   "metadata": {},
   "outputs": [],
   "source": [
    "def sigma(x): return 1/(1 + np.exp(-x))"
   ]
  },
  {
   "cell_type": "code",
   "execution_count": 166,
   "metadata": {},
   "outputs": [],
   "source": [
    "epsilon = .001\n",
    "Y = np.stack([scalar_to_index(y_val) for y_val in y])"
   ]
  },
  {
   "cell_type": "code",
   "execution_count": 167,
   "metadata": {},
   "outputs": [],
   "source": [
    "def train_model(nn_hdim, num_passes=20000, print_loss=False):\n",
    "    model = init_model(3)\n",
    "    W1, b1, W2, b2 = tuple(model.values())\n",
    "    for i in range(0, num_passes):          \n",
    "        (z1, a1, probs) = forward(X, W1, b1, W2, b2)\n",
    "        dW1, db1, dW2, db2 = backwards(z1, a1, W2, Y, probs, X)\n",
    "        model = step(W1, b1, W2, b2, dW2, db2, dW1, db1)\n",
    "        if print_loss and i % 1000 == 0:\n",
    "          print(\"Loss after iteration %i: %f\" %(i, calculate_new_loss(y, probs)))\n",
    "    return model"
   ]
  },
  {
   "cell_type": "code",
   "execution_count": 168,
   "metadata": {},
   "outputs": [],
   "source": [
    "def init_model(nn_hdim):\n",
    "    np.random.seed(0)\n",
    "    W1 = np.random.randn(nn_input_dim, nn_hdim) / np.sqrt(nn_input_dim)\n",
    "    b1 = np.zeros((1, nn_hdim))\n",
    "    W2 = np.random.randn(nn_hdim, nn_output_dim) / np.sqrt(nn_hdim)\n",
    "    b2 = np.zeros((1, nn_output_dim))\n",
    "    model = {'W1': W1, 'b1': b1, 'W2': W2, 'b2': b2}\n",
    "    return model"
   ]
  },
  {
   "cell_type": "code",
   "execution_count": 169,
   "metadata": {},
   "outputs": [],
   "source": [
    "def forward(X, W1, b1, W2, b2):\n",
    "    z1 = X.dot(W1) + b1 \n",
    "    a1 = sigma(z1)\n",
    "    z2 = a1.dot(W2) + b2\n",
    "    # exp_scores = np.exp(z2)\n",
    "    # probs = exp_scores / np.sum(exp_scores, axis=1, keepdims=True)\n",
    "    return (z1, a1, z2)"
   ]
  },
  {
   "cell_type": "code",
   "execution_count": 170,
   "metadata": {},
   "outputs": [],
   "source": [
    "def step(W1, b1, W2, b2, dW2, db2, dW1, db1):\n",
    "    W1 += -epsilon * dW1\n",
    "    b1 += -epsilon * db1\n",
    "    W2 += -epsilon * dW2\n",
    "    b2 += -epsilon * db2\n",
    "    model = { 'W1': W1, 'b1': b1, 'W2': W2, 'b2': b2}\n",
    "    return model"
   ]
  },
  {
   "cell_type": "code",
   "execution_count": 171,
   "metadata": {},
   "outputs": [
    {
     "name": "stdout",
     "output_type": "stream",
     "text": [
      "Loss after iteration 0: 92.545568\n",
      "Loss after iteration 1000: 38.810426\n",
      "Loss after iteration 2000: 38.073801\n",
      "Loss after iteration 3000: 36.755223\n",
      "Loss after iteration 4000: 32.890472\n",
      "Loss after iteration 5000: 25.360707\n",
      "Loss after iteration 6000: 22.194691\n",
      "Loss after iteration 7000: 21.717532\n",
      "Loss after iteration 8000: 21.624184\n",
      "Loss after iteration 9000: 21.590181\n",
      "Loss after iteration 10000: 21.568854\n",
      "Loss after iteration 11000: 21.550690\n",
      "Loss after iteration 12000: 21.533082\n",
      "Loss after iteration 13000: 21.514830\n",
      "Loss after iteration 14000: 21.494841\n",
      "Loss after iteration 15000: 21.471678\n",
      "Loss after iteration 16000: 21.443258\n",
      "Loss after iteration 17000: 21.406456\n",
      "Loss after iteration 18000: 21.356435\n",
      "Loss after iteration 19000: 21.285532\n",
      "Loss after iteration 20000: 21.182053\n",
      "Loss after iteration 21000: 21.030492\n",
      "Loss after iteration 22000: 20.814871\n",
      "Loss after iteration 23000: 20.524898\n",
      "Loss after iteration 24000: 20.162366\n",
      "Loss after iteration 25000: 19.745083\n",
      "Loss after iteration 26000: 19.306326\n",
      "Loss after iteration 27000: 18.887099\n",
      "Loss after iteration 28000: 18.521419\n",
      "Loss after iteration 29000: 18.223915\n"
     ]
    }
   ],
   "source": [
    "model = train_model(3, num_passes=30000, print_loss=True)"
   ]
  },
  {
   "cell_type": "code",
   "execution_count": 109,
   "metadata": {},
   "outputs": [
    {
     "data": {
      "text/plain": [
       "Text(0.5, 1.0, 'Decision Boundary for hidden layer size 3')"
      ]
     },
     "execution_count": 109,
     "metadata": {},
     "output_type": "execute_result"
    },
    {
     "data": {
      "image/png": "[encoded data removed]",
      "text/plain": [
       "<Figure size 720x576 with 1 Axes>"
      ]
     },
     "metadata": {
      "needs_background": "light"
     },
     "output_type": "display_data"
    }
   ],
   "source": [
    "# from plotter import plot_decision_boundary\n",
    "def plot_decision_boundary(pred_func, X):\n",
    "    x_min, x_max = X[:, 0].min() - .5, X[:, 0].max() + .5\n",
    "    y_min, y_max = X[:, 1].min() - .5, X[:, 1].max() + .5\n",
    "    h = 0.01\n",
    "    xx, yy = np.meshgrid(np.arange(x_min, x_max, h), np.arange(y_min, y_max, h))\n",
    "    Z = pred_func(np.c_[xx.ravel(), yy.ravel()])\n",
    "    Z = Z.reshape(xx.shape)\n",
    "    plt.contourf(xx, yy, Z, cmap=plt.cm.Spectral)\n",
    "    plt.scatter(X[:, 0], X[:, 1], c=y, cmap=plt.cm.Spectral)\n",
    "\n",
    "def predict(model, x):\n",
    "    W1, b1, W2, b2 = model['W1'], model['b1'], model['W2'], model['b2']\n",
    "    # Forward propagation\n",
    "    z1 = x.dot(W1) + b1\n",
    "    a1 = np.tanh(z1)\n",
    "    z2 = a1.dot(W2) + b2\n",
    "    exp_scores = np.exp(z2)\n",
    "    probs = exp_scores / np.sum(exp_scores, axis=1, keepdims=True)\n",
    "    return np.argmax(probs, axis=1)\n",
    "\n",
    "# Plot the decision boundary\n",
    "plot_decision_boundary(lambda x: predict(model, x), X)\n",
    "plt.title(\"Decision Boundary for hidden layer size 3\")"
   ]
  },
  {
   "cell_type": "markdown",
   "metadata": {},
   "source": [
    "[derivative of softmax](https://math.stackexchange.com/questions/945871/derivative-of-softmax-loss-function)"
   ]
  },
  {
   "cell_type": "markdown",
   "metadata": {},
   "source": [
    "[softmax](https://eli.thegreenplace.net/2016/the-softmax-function-and-its-derivative/)"
   ]
  },
  {
   "cell_type": "markdown",
   "metadata": {},
   "source": [
    "[cross entropy](https://towardsdatascience.com/understanding-binary-cross-entropy-log-loss-a-visual-explanation-a3ac6025181a)"
   ]
  },
  {
   "cell_type": "markdown",
   "metadata": {},
   "source": [
    "        \n",
    "[grad of bias](https://datascience.stackexchange.com/questions/20139/gradients-for-bias-terms-in-backpropagation)"
   ]
  }
 ],
 "metadata": {
  "kernelspec": {
   "display_name": "Python 3",
   "language": "python",
   "name": "python3"
  },
  "language_info": {
   "codemirror_mode": {
    "name": "ipython",
    "version": 3
   },
   "file_extension": ".py",
   "mimetype": "text/x-python",
   "name": "python",
   "nbconvert_exporter": "python",
   "pygments_lexer": "ipython3",
   "version": "3.7.4"
  }
 },
 "nbformat": 4,
 "nbformat_minor": 4
}
