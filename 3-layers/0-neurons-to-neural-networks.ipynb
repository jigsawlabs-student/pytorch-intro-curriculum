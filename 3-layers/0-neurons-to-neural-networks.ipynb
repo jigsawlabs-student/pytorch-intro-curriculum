{
 "cells": [
  {
   "cell_type": "markdown",
   "metadata": {},
   "source": [
    "# From Neurons to Neural Network"
   ]
  },
  {
   "cell_type": "markdown",
   "metadata": {},
   "source": [
    "### Introduction"
   ]
  },
  {
   "cell_type": "markdown",
   "metadata": {},
   "source": [
    "In the previous lessons, we learned about the hypothesis function and training procedure for a single neuron.  Here are a couple of diagrams to jog your memory."
   ]
  },
  {
   "cell_type": "markdown",
   "metadata": {},
   "source": [
    "This is an illustration of the hypothesis function for a single neuron."
   ]
  },
  {
   "cell_type": "markdown",
   "metadata": {},
   "source": [
    "<img src=\"sigmoid-neuron.png\" width=\"40%\">"
   ]
  },
  {
   "cell_type": "markdown",
   "metadata": {},
   "source": [
    "And this is an illustration of our training procedure of gradient descent."
   ]
  },
  {
   "cell_type": "markdown",
   "metadata": {},
   "source": [
    "<img src=\"./cost-curve-slopes.png\" width=\"40%\">"
   ]
  },
  {
   "cell_type": "markdown",
   "metadata": {},
   "source": [
    "Using the above hypothesis function and training procedure, we found a hypothesis function that could predict if cells contained cancer or not by looking at a single feature -- the average cell area in a photo of cells.  But unfortunately, using a single neuron will fall short if we try to use it for basic image recognition -- like identifying handwritten digits."
   ]
  },
  {
   "cell_type": "markdown",
   "metadata": {},
   "source": [
    "<img src=\"mnist.png\" width=\"30%\">"
   ]
  },
  {
   "cell_type": "markdown",
   "metadata": {},
   "source": [
    "### More Neurons"
   ]
  },
  {
   "cell_type": "markdown",
   "metadata": {},
   "source": [
    "So how do will we solve a problem like identifying our handwritten digits above?  Well, by using more neurons."
   ]
  },
  {
   "cell_type": "markdown",
   "metadata": {},
   "source": [
    "<img src=\"./mit-neurons.jpg\" width=\"50%\">"
   ]
  },
  {
   "cell_type": "markdown",
   "metadata": {},
   "source": [
    "But, of course, it's a little more complicated than that."
   ]
  },
  {
   "cell_type": "markdown",
   "metadata": {},
   "source": [
    "Take a look at a representation of an artificial neural network below.  The blue dots in the diagram represent different neurons, and the lines are the connections between the neurons."
   ]
  },
  {
   "cell_type": "markdown",
   "metadata": {},
   "source": [
    "<img src=\"./artificial-network.png\" width=\"50%\">"
   ]
  },
  {
   "cell_type": "markdown",
   "metadata": {},
   "source": [
    "The takeaway from the diagram above is that our neural network operates in layers.  And as we can see, there are multiple neurons in each layer.\n",
    "\n",
    "What's the point of the layers?  Well let's consider the problem of using our neural network to identify handwritten digits. In this case, we could imagine that the first layer just identifies the regions where a number is drawn.  Then perhaps the second layer identifies if there horizontal lines, vertical lines, or curved lines in the image.  And then the third layer could use this information to associate the image with a single digit.  "
   ]
  },
  {
   "cell_type": "markdown",
   "metadata": {},
   "source": [
    "<img src=\"./mnist.png\" width=\"30%\">"
   ]
  },
  {
   "cell_type": "markdown",
   "metadata": {},
   "source": [
    "In other words, there is an information flow from one layer to the next.  And each layer is responsible for making a determination at a higher level of abstraction than the previous layer.  Finally, at the last layer, a determination is made - like determining which digit an image represents."
   ]
  },
  {
   "cell_type": "markdown",
   "metadata": {},
   "source": [
    "Now building a neural network, with multiple layers, and with each layer having multiple neurons is pretty similar to what we saw previously:"
   ]
  },
  {
   "cell_type": "code",
   "execution_count": 2,
   "metadata": {},
   "outputs": [
    {
     "data": {
      "text/plain": [
       "Sequential(\n",
       "  (0): Linear(in_features=784, out_features=64, bias=True)\n",
       "  (1): Sigmoid()\n",
       "  (2): Linear(in_features=64, out_features=10, bias=True)\n",
       "  (3): Softmax(dim=1)\n",
       ")"
      ]
     },
     "execution_count": 2,
     "metadata": {},
     "output_type": "execute_result"
    }
   ],
   "source": [
    "import torch.nn as nn\n",
    "net = nn.Sequential(\n",
    "    nn.Linear(784, 64),\n",
    "    nn.Sigmoid(),\n",
    "    nn.Linear(64, 10),\n",
    "    nn.Softmax(dim = 1)\n",
    ")\n",
    "\n",
    "net"
   ]
  },
  {
   "cell_type": "markdown",
   "metadata": {},
   "source": [
    "But underneath, each layer has now has many different parameters."
   ]
  },
  {
   "cell_type": "code",
   "execution_count": 3,
   "metadata": {},
   "outputs": [
    {
     "data": {
      "text/plain": [
       "Parameter containing:\n",
       "tensor([[-0.0045,  0.0154,  0.0091,  ...,  0.0069,  0.0312, -0.0038],\n",
       "        [ 0.0217, -0.0055, -0.0326,  ...,  0.0126, -0.0239,  0.0093],\n",
       "        [-0.0134, -0.0300,  0.0282,  ..., -0.0345,  0.0124, -0.0024],\n",
       "        ...,\n",
       "        [ 0.0099, -0.0183,  0.0087,  ..., -0.0331,  0.0355,  0.0346],\n",
       "        [ 0.0336, -0.0242,  0.0086,  ...,  0.0208,  0.0261, -0.0288],\n",
       "        [ 0.0056,  0.0161, -0.0326,  ..., -0.0190, -0.0087, -0.0329]],\n",
       "       requires_grad=True)"
      ]
     },
     "execution_count": 3,
     "metadata": {},
     "output_type": "execute_result"
    }
   ],
   "source": [
    "net[0].weight"
   ]
  },
  {
   "cell_type": "markdown",
   "metadata": {},
   "source": [
    "And remember that is just a one of multiple layers in our neural network above.  So how does something like this work in code, or mathematically?"
   ]
  },
  {
   "cell_type": "markdown",
   "metadata": {},
   "source": [
    "Over the next four lessons, we'll learn more about what it means for a neural network to operate with layers of neurons.  And specifically we'll learn how we can use Python and some math to understand our neural network.  "
   ]
  },
  {
   "cell_type": "markdown",
   "metadata": {},
   "source": [
    "### Resources"
   ]
  },
  {
   "cell_type": "markdown",
   "metadata": {},
   "source": [
    "[Visualizing Neural Nets](https://ml4a.github.io/ml4a/looking_inside_neural_nets/)"
   ]
  }
 ],
 "metadata": {
  "kernelspec": {
   "display_name": "Python 3",
   "language": "python",
   "name": "python3"
  },
  "language_info": {
   "codemirror_mode": {
    "name": "ipython",
    "version": 3
   },
   "file_extension": ".py",
   "mimetype": "text/x-python",
   "name": "python",
   "nbconvert_exporter": "python",
   "pygments_lexer": "ipython3",
   "version": "3.8.6"
  }
 },
 "nbformat": 4,
 "nbformat_minor": 4
}
