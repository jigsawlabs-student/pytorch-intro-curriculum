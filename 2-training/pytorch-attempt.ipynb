{
 "cells": [
  {
   "cell_type": "markdown",
   "id": "outer-playback",
   "metadata": {},
   "source": [
    "### Pytorch Breast Cancer Dataset"
   ]
  },
  {
   "cell_type": "code",
   "execution_count": 2,
   "id": "twelve-memorial",
   "metadata": {},
   "outputs": [],
   "source": [
    "from sklearn.datasets import load_breast_cancer"
   ]
  },
  {
   "cell_type": "code",
   "execution_count": 3,
   "id": "tough-coast",
   "metadata": {},
   "outputs": [],
   "source": [
    "dataset = load_breast_cancer()"
   ]
  },
  {
   "cell_type": "code",
   "execution_count": 5,
   "id": "worst-hygiene",
   "metadata": {},
   "outputs": [],
   "source": [
    "import pandas as pd"
   ]
  },
  {
   "cell_type": "code",
   "execution_count": 198,
   "id": "ethical-laser",
   "metadata": {},
   "outputs": [],
   "source": [
    "X = pd.DataFrame(dataset.data, columns = dataset.feature_names)"
   ]
  },
  {
   "cell_type": "code",
   "execution_count": 199,
   "id": "allied-connection",
   "metadata": {},
   "outputs": [],
   "source": [
    "from sklearn.preprocessing import StandardScaler\n",
    "scaler = StandardScaler()\n",
    "X_transformed = scaler.fit_transform(X)"
   ]
  },
  {
   "cell_type": "code",
   "execution_count": 196,
   "id": "linear-weather",
   "metadata": {},
   "outputs": [],
   "source": [
    "y = pd.Series(dataset.target == 0).astype('int')"
   ]
  },
  {
   "cell_type": "code",
   "execution_count": 197,
   "id": "normal-flexibility",
   "metadata": {},
   "outputs": [],
   "source": [
    "from sklearn.model_selection import train_test_split\n",
    "\n",
    "X_train, X_test, y_train, y_test = train_test_split(X, y, test_size = 0.20, random_state = 42, stratify = y)"
   ]
  },
  {
   "cell_type": "code",
   "execution_count": 203,
   "id": "virtual-things",
   "metadata": {},
   "outputs": [],
   "source": [
    "import torch \n",
    "import numpy as np\n",
    "\n",
    "predictors_train = torch.tensor(np.array(X_transformed), dtype=torch.float)\n",
    "\n",
    "labels_train = torch.tensor(np.array(y_train), dtype = torch.float).view(-1, 1)\n"
   ]
  },
  {
   "cell_type": "code",
   "execution_count": 204,
   "id": "empirical-turkey",
   "metadata": {},
   "outputs": [
    {
     "data": {
      "text/plain": [
       "tensor([[ 1.0971, -2.0733,  1.2699,  ...,  2.2961,  2.7506,  1.9370],\n",
       "        [ 1.8298, -0.3536,  1.6860,  ...,  1.0871, -0.2439,  0.2812],\n",
       "        [ 1.5799,  0.4562,  1.5665,  ...,  1.9550,  1.1523,  0.2014],\n",
       "        ...,\n",
       "        [ 0.7023,  2.0456,  0.6727,  ...,  0.4141, -1.1045, -0.3184],\n",
       "        [ 1.8383,  2.3365,  1.9825,  ...,  2.2900,  1.9191,  2.2196],\n",
       "        [-1.8084,  1.2218, -1.8144,  ..., -1.7451, -0.0481, -0.7512]])"
      ]
     },
     "execution_count": 204,
     "metadata": {},
     "output_type": "execute_result"
    }
   ],
   "source": [
    "predictors_train"
   ]
  },
  {
   "cell_type": "code",
   "execution_count": 174,
   "id": "little-heading",
   "metadata": {},
   "outputs": [],
   "source": [
    "predictors_test = torch.tensor(np.array(X_test), dtype=torch.float)"
   ]
  },
  {
   "cell_type": "code",
   "execution_count": 175,
   "id": "current-trade",
   "metadata": {},
   "outputs": [],
   "source": [
    "labels_test = torch.tensor(np.array(y_test), dtype = torch.float).view(-1, 1)"
   ]
  },
  {
   "cell_type": "code",
   "execution_count": 176,
   "id": "postal-defensive",
   "metadata": {},
   "outputs": [],
   "source": [
    "train_loader = torch.utils.data.DataLoader(df_tf, batch_size=15, shuffle=True)"
   ]
  },
  {
   "cell_type": "markdown",
   "id": "pleased-beatles",
   "metadata": {},
   "source": [
    "### Build Neural Network"
   ]
  },
  {
   "cell_type": "code",
   "execution_count": 177,
   "id": "initial-lying",
   "metadata": {},
   "outputs": [],
   "source": [
    "import torch.nn as nn\n",
    "classifier = nn.Sequential(\n",
    "    nn.Linear(in_features=30, out_features=15),\n",
    "    nn.ReLU(),\n",
    "    nn.Linear(15, 15),\n",
    "    nn.ReLU(),\n",
    "    nn.Linear(15, 1),\n",
    "    nn.Sigmoid()\n",
    ")"
   ]
  },
  {
   "cell_type": "code",
   "execution_count": 178,
   "id": "waiting-mustang",
   "metadata": {},
   "outputs": [],
   "source": [
    "criterion = nn.BCELoss()"
   ]
  },
  {
   "cell_type": "code",
   "execution_count": 179,
   "id": "photographic-stone",
   "metadata": {},
   "outputs": [],
   "source": [
    "optimizer = torch.optim.Adam(classifier.parameters(), lr=0.001, weight_decay=0.0001)"
   ]
  },
  {
   "cell_type": "code",
   "execution_count": 186,
   "id": "southern-tuner",
   "metadata": {},
   "outputs": [
    {
     "name": "stdout",
     "output_type": "stream",
     "text": [
      "Epoch   1: loss 0.00160\n",
      "Epoch   2: loss 0.00153\n",
      "Epoch   3: loss 0.00144\n",
      "Epoch   4: loss 0.00143\n",
      "Epoch   5: loss 0.00141\n",
      "Epoch   6: loss 0.00135\n",
      "Epoch   7: loss 0.00134\n",
      "Epoch   8: loss 0.00137\n",
      "Epoch   9: loss 0.00133\n",
      "Epoch  10: loss 0.00122\n",
      "Epoch  11: loss 0.00124\n",
      "Epoch  12: loss 0.00120\n",
      "Epoch  13: loss 0.00115\n",
      "Epoch  14: loss 0.00108\n",
      "Epoch  15: loss 0.00112\n",
      "Epoch  16: loss 0.00116\n",
      "Epoch  17: loss 0.00096\n",
      "Epoch  18: loss 0.00101\n",
      "Epoch  19: loss 0.00103\n",
      "Epoch  20: loss 0.00091\n"
     ]
    }
   ],
   "source": [
    "for epoch in range(20):\n",
    "  #To store the error:\n",
    "  run_loss = 0.\n",
    "\n",
    "  for data in train_loader:\n",
    "    inputs, labels = data\n",
    "    optimizer.zero_grad()\n",
    "\n",
    "    outputs = classifier(inputs) \n",
    "    error = criterion(outputs, labels)\n",
    "    error.backward()\n",
    "    optimizer.step() \n",
    "\n",
    "    run_loss += error.item()\n",
    "  print('Epoch %3d: loss %.5f' % (epoch+1, run_loss/len(train_loader)))"
   ]
  },
  {
   "cell_type": "code",
   "execution_count": 193,
   "id": "adaptive-industry",
   "metadata": {},
   "outputs": [],
   "source": [
    "preds = classifier(predictors_train)"
   ]
  },
  {
   "cell_type": "code",
   "execution_count": 189,
   "id": "killing-barbados",
   "metadata": {},
   "outputs": [
    {
     "data": {
      "text/plain": [
       "tensor([0, 1, 0, 0, 0, 0, 0, 0, 0, 0, 0, 0, 1, 0, 0, 0, 0, 0, 0, 0, 0, 0, 1, 1,\n",
       "        0, 0, 0, 0, 1, 1, 1, 0, 1, 1, 0, 0, 0, 0, 1, 0, 0, 0, 0, 0, 0, 0, 0, 0,\n",
       "        0, 0, 1, 1, 0, 0, 0, 0, 0, 0, 0, 1, 0, 0, 0, 0, 0, 0, 1, 1, 0, 0, 0, 1,\n",
       "        1, 0, 0, 0, 0, 1, 0, 0, 1, 1, 0, 0, 0, 0, 1, 0, 1, 0, 1, 0, 0, 0, 0, 0,\n",
       "        0, 0, 0, 0, 0, 0, 0, 0, 0, 0, 1, 0, 1, 0, 0, 0, 0, 1])"
      ]
     },
     "execution_count": 189,
     "metadata": {},
     "output_type": "execute_result"
    }
   ],
   "source": [
    "preds.view(-1).long()"
   ]
  },
  {
   "cell_type": "code",
   "execution_count": 190,
   "id": "independent-output",
   "metadata": {},
   "outputs": [
    {
     "data": {
      "text/plain": [
       "tensor([0, 1, 0, 1, 0, 0, 1, 0, 0, 0, 1, 0, 1, 0, 0, 0, 1, 0, 0, 0, 0, 0, 1, 1,\n",
       "        1, 0, 0, 1, 1, 1, 1, 0, 1, 1, 0, 0, 0, 0, 1, 0, 0, 0, 1, 0, 0, 1, 0, 1,\n",
       "        0, 0, 1, 1, 0, 0, 0, 1, 0, 0, 0, 1, 0, 0, 1, 0, 0, 0, 1, 1, 0, 1, 0, 1,\n",
       "        1, 0, 0, 0, 0, 1, 0, 1, 1, 1, 0, 0, 0, 0, 1, 1, 1, 0, 1, 0, 0, 0, 0, 0,\n",
       "        0, 1, 0, 0, 0, 0, 0, 0, 0, 0, 1, 0, 1, 0, 0, 0, 1, 1])"
      ]
     },
     "execution_count": 190,
     "metadata": {},
     "output_type": "execute_result"
    }
   ],
   "source": [
    "labels_test.view(-1).long()"
   ]
  },
  {
   "cell_type": "code",
   "execution_count": 195,
   "id": "precious-weather",
   "metadata": {},
   "outputs": [
    {
     "data": {
      "text/plain": [
       "tensor(0.5553)"
      ]
     },
     "execution_count": 195,
     "metadata": {},
     "output_type": "execute_result"
    }
   ],
   "source": [
    "(preds.view(-1).long() == labels_train.long()).float().mean()"
   ]
  },
  {
   "cell_type": "markdown",
   "id": "fewer-empire",
   "metadata": {},
   "source": [
    "### Resources\n",
    "\n",
    "[Breast Cancer Pytorch](https://medium.com/analytics-vidhya/practical-ml-part-3-predicting-breast-cancer-with-pytorch-efc469242bfe)"
   ]
  },
  {
   "cell_type": "markdown",
   "id": "liquid-latter",
   "metadata": {},
   "source": [
    "[Github toy dataset](https://gist.github.com/santi-pdp/d0e9002afe74db04aa5bbff6d076e8fe)"
   ]
  }
 ],
 "metadata": {
  "kernelspec": {
   "display_name": "Python 3",
   "language": "python",
   "name": "python3"
  },
  "language_info": {
   "codemirror_mode": {
    "name": "ipython",
    "version": 3
   },
   "file_extension": ".py",
   "mimetype": "text/x-python",
   "name": "python",
   "nbconvert_exporter": "python",
   "pygments_lexer": "ipython3",
   "version": "3.8.6"
  }
 },
 "nbformat": 4,
 "nbformat_minor": 5
}
