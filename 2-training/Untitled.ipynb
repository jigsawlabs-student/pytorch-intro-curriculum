{
 "cells": [
  {
   "cell_type": "code",
   "execution_count": 323,
   "id": "impressive-original",
   "metadata": {},
   "outputs": [],
   "source": [
    "import torch\n",
    "import numpy as np\n",
    "import matplotlib.pyplot as plt\n",
    "\n",
    "from sklearn.datasets import load_breast_cancer\n",
    "        \n",
    "data = load_breast_cancer()\n",
    "X, Y = data.data, data.target"
   ]
  },
  {
   "cell_type": "code",
   "execution_count": 324,
   "id": "imposed-distance",
   "metadata": {},
   "outputs": [],
   "source": [
    "from sklearn.model_selection import train_test_split\n",
    "\n",
    "X_train, X_test, y_train, y_test = train_test_split(X, Y, test_size=0.2)\n"
   ]
  },
  {
   "cell_type": "code",
   "execution_count": 325,
   "id": "thirty-falls",
   "metadata": {},
   "outputs": [],
   "source": [
    "from sklearn.preprocessing import StandardScaler\n",
    "\n",
    "scaler = StandardScaler()\n",
    "X_train_scaled = scaler.fit_transform(X_train)\n",
    "X_test_scaled = scaler.transform(X_test)\n",
    "\n",
    "# print(X_test.shape)"
   ]
  },
  {
   "cell_type": "code",
   "execution_count": 326,
   "id": "satellite-maria",
   "metadata": {},
   "outputs": [],
   "source": [
    "X_train = torch.from_numpy(X_train_scaled.astype(np.float32))[:, :1]\n",
    "X_test = torch.from_numpy(X_test_scaled.astype(np.float32))[:, :1]\n",
    "y_train = torch.from_numpy(y_train.astype(np.float32)).reshape(-1, 1)\n",
    "y_test = torch.from_numpy(y_test.astype(np.float32)).reshape(-1, 1)"
   ]
  },
  {
   "cell_type": "code",
   "execution_count": 327,
   "id": "assured-suicide",
   "metadata": {},
   "outputs": [],
   "source": [
    "# X_train[:10]"
   ]
  },
  {
   "cell_type": "markdown",
   "id": "annual-clearing",
   "metadata": {},
   "source": [
    "### Define neural network"
   ]
  },
  {
   "cell_type": "code",
   "execution_count": 328,
   "id": "failing-violence",
   "metadata": {},
   "outputs": [],
   "source": [
    "class BinaryClassification(torch.nn.Module):\n",
    "  def __init__(self, input_dimension):\n",
    "    super().__init__()\n",
    "    self.linear = torch.nn.Linear(input_dimension, 1, bias = False)\n",
    "\n",
    "  def forward(self, input_dimension):\n",
    "    W1 = self.linear(input_dimension)\n",
    "    return torch.sigmoid(W1)\n",
    "        "
   ]
  },
  {
   "cell_type": "code",
   "execution_count": 329,
   "id": "fancy-sheriff",
   "metadata": {},
   "outputs": [
    {
     "data": {
      "text/plain": [
       "torch.Size([455, 1])"
      ]
     },
     "execution_count": 329,
     "metadata": {},
     "output_type": "execute_result"
    }
   ],
   "source": [
    "X_train.shape"
   ]
  },
  {
   "cell_type": "code",
   "execution_count": 330,
   "id": "piano-gentleman",
   "metadata": {},
   "outputs": [],
   "source": [
    "_, input_dimension = X_train.shape\n",
    "\n",
    "model = BinaryClassification(input_dimension)"
   ]
  },
  {
   "cell_type": "code",
   "execution_count": 331,
   "id": "indie-poultry",
   "metadata": {},
   "outputs": [],
   "source": [
    "def configure_loss_function(): \n",
    "  return torch.nn.BCELoss()\n",
    "\n",
    "def configure_optimizer(model):\n",
    "  return torch.optim.Adam(model.parameters(), lr = .00005)\n",
    "\n",
    "def full_gd(model, criterion, optimizer, X_train, y_train, n_epochs=2000):\n",
    "  train_losses = np.zeros(n_epochs)\n",
    "  test_losses = np.zeros(n_epochs)\n",
    "\n",
    "  for it in range(n_epochs): \n",
    "    outputs = model(X_train)\n",
    "    loss = criterion(outputs, y_train)\n",
    "    optimizer.zero_grad()\n",
    "    loss.backward()\n",
    "    optimizer.step()\n",
    "\n",
    "    outputs_test = model(X_test)\n",
    "    loss_test = criterion(outputs_test, y_test)\n",
    "\n",
    "    train_losses[it] = loss.item()\n",
    "    test_losses[it] = loss_test.item()\n",
    "  return train_losses, test_losses"
   ]
  },
  {
   "cell_type": "code",
   "execution_count": 332,
   "id": "adjustable-facing",
   "metadata": {},
   "outputs": [
    {
     "data": {
      "image/png": "[encoded data removed]",
      "text/plain": [
       "<Figure size 432x288 with 1 Axes>"
      ]
     },
     "metadata": {
      "needs_background": "light"
     },
     "output_type": "display_data"
    }
   ],
   "source": [
    "criterion = configure_loss_function()\n",
    "optimizer = configure_optimizer(model)\n",
    "train_losses, test_losses = full_gd(model, criterion, optimizer, X_train, y_train, n_epochs = 20000)\n",
    "\n",
    "plt.plot(train_losses, label = 'train loss')\n",
    "plt.plot(test_losses, label = 'test loss')\n",
    "plt.legend()\n",
    "plt.show()"
   ]
  },
  {
   "cell_type": "code",
   "execution_count": 333,
   "id": "psychological-operations",
   "metadata": {},
   "outputs": [
    {
     "name": "stdout",
     "output_type": "stream",
     "text": [
      "0.621978021978022\n",
      "0.6491228070175439\n"
     ]
    }
   ],
   "source": [
    "\"\"\"evaluate model\"\"\"\n",
    "\n",
    "with torch.no_grad():\n",
    "  p_train = model(X_train)\n",
    "  p_train = (p_train.numpy() > 0)\n",
    "\n",
    "  train_acc = np.mean(y_train.numpy() == p_train)\n",
    "\n",
    "  p_test = model(X_test)\n",
    "  p_test = (p_test.numpy() > 0)\n",
    "  \n",
    "  test_acc = np.mean(y_test.numpy() == p_test)\n",
    "\n",
    "print(train_acc)\n",
    "print(test_acc)"
   ]
  },
  {
   "cell_type": "code",
   "execution_count": null,
   "id": "proof-affect",
   "metadata": {},
   "outputs": [],
   "source": []
  },
  {
   "cell_type": "code",
   "execution_count": null,
   "id": "confident-dictionary",
   "metadata": {},
   "outputs": [],
   "source": []
  }
 ],
 "metadata": {
  "kernelspec": {
   "display_name": "Python 3",
   "language": "python",
   "name": "python3"
  },
  "language_info": {
   "codemirror_mode": {
    "name": "ipython",
    "version": 3
   },
   "file_extension": ".py",
   "mimetype": "text/x-python",
   "name": "python",
   "nbconvert_exporter": "python",
   "pygments_lexer": "ipython3",
   "version": "3.8.6"
  }
 },
 "nbformat": 4,
 "nbformat_minor": 5
}
